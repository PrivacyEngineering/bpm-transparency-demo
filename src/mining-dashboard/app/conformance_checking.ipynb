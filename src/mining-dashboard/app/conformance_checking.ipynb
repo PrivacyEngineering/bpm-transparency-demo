{
 "cells": [
  {
   "cell_type": "code",
   "execution_count": 74,
   "metadata": {},
   "outputs": [],
   "source": [
    "import conformance_functions as cf\n",
    "import discovery_functions as disc_f\n",
    "import xmltodict\n",
    "import pandas as pd\n",
    "import uuid\n",
    "import plotly.express as px"
   ]
  },
  {
   "cell_type": "code",
   "execution_count": 2,
   "metadata": {},
   "outputs": [],
   "source": [
    "with open('./data/discovered_process.bpmn', 'r', encoding='utf-8') as file:\n",
    "    discovered_xml = file.read()\n",
    "with open('./data/diagram_1.bpmn', 'r', encoding='utf-8') as file:\n",
    "    normative_xml = file.read()\n",
    "\n",
    "discovered_bpmn = xmltodict.parse(discovered_xml)\n",
    "normative_bpmn = xmltodict.parse(normative_xml)"
   ]
  },
  {
   "cell_type": "code",
   "execution_count": 3,
   "metadata": {},
   "outputs": [],
   "source": [
    "discovered_tilt_bpmn_elements = cf.filter_list_for_element(\n",
    "    cf.get_list_of_elements_containing_key(discovered_bpmn,\"bpmn:extensionElements\",[]),\n",
    "    key=\"bpmn:extensionElements\",\n",
    "    nested_key=\"tilt:dataDisclosed\"\n",
    "    )\n",
    "normative_tilt_bpmn_elements = cf.filter_list_for_element(\n",
    "    cf.get_list_of_elements_containing_key(normative_bpmn,\"bpmn:extensionElements\",[]),\n",
    "    key=\"bpmn:extensionElements\",\n",
    "    nested_key=\"tilt:dataDisclosed\"\n",
    "    )"
   ]
  },
  {
   "cell_type": "code",
   "execution_count": 4,
   "metadata": {},
   "outputs": [],
   "source": [
    "discovered_data_disclosed_elements = \\\n",
    "    cf.extract_data_disclosed_from_element_list(discovered_tilt_bpmn_elements)\n",
    "normative_data_disclosed_elements = \\\n",
    "    cf.extract_data_disclosed_from_element_list(normative_tilt_bpmn_elements)"
   ]
  },
  {
   "cell_type": "code",
   "execution_count": 5,
   "metadata": {},
   "outputs": [],
   "source": [
    "discovered_new_ids = cf.get_data_disclosed_dicts(discovered_tilt_bpmn_elements)\n",
    "normative_new_ids = cf.get_data_disclosed_dicts(normative_tilt_bpmn_elements)"
   ]
  },
  {
   "cell_type": "code",
   "execution_count": 6,
   "metadata": {},
   "outputs": [],
   "source": [
    "df_discovered__new = pd.DataFrame(discovered_new_ids,columns=[\"id_disc\",\"dict\",\"old_id\"]).dropna()\n",
    "df_discovered_old = pd.DataFrame(discovered_data_disclosed_elements,columns=[\"name\",\"old_id\"]).dropna()\n",
    "df_data_disclosed_discovered = pd.merge(df_discovered__new,df_discovered_old,how=\"outer\",on=\"old_id\").drop_duplicates([\"id_disc\",\"name\",\"old_id\"])"
   ]
  },
  {
   "cell_type": "code",
   "execution_count": 7,
   "metadata": {},
   "outputs": [],
   "source": [
    "df_normative_new = pd.DataFrame(normative_new_ids,columns=[\"id_norm\",\"dict\",\"old_id\"]).dropna()\n",
    "df_normative_old = pd.DataFrame(normative_data_disclosed_elements,columns=[\"name\",\"old_id\"]).dropna()\n",
    "df_data_disclosed_normative = pd.merge(df_normative_new,df_normative_old,how=\"outer\",on=\"old_id\").drop_duplicates([\"id_norm\",\"name\",\"old_id\"])"
   ]
  },
  {
   "cell_type": "code",
   "execution_count": 8,
   "metadata": {},
   "outputs": [],
   "source": [
    "combined_df = pd.concat([df_data_disclosed_discovered.rename(columns={\"id_disc\":\"id\"}),df_data_disclosed_normative.rename(columns={\"id_norm\":\"id\"})])\n",
    "combined_df[\"category\"] = combined_df.apply(lambda x: x[\"dict\"][\"@category\"],axis=1)\n",
    "df_purpsoes = cf.build_tilt_element_df(combined_df,\"tilt:purposes\")\n",
    "df_legal_bases = cf.build_tilt_element_df(combined_df,\"tilt:legalBases\")"
   ]
  },
  {
   "cell_type": "code",
   "execution_count": 9,
   "metadata": {},
   "outputs": [],
   "source": [
    "df_disclosed_delta = pd.merge(df_data_disclosed_discovered[[\"id_disc\",\"name\"]],df_data_disclosed_normative[[\"id_norm\",\"name\"]],how=\"outer\",left_on=[\"id_disc\",\"name\"],right_on=[\"id_norm\",\"name\"])#.drop_duplicates()"
   ]
  },
  {
   "cell_type": "code",
   "execution_count": 10,
   "metadata": {},
   "outputs": [
    {
     "name": "stderr",
     "output_type": "stream",
     "text": [
      "/home/ciphersmaug/Projects/master/transparency-logging/src/mining-dashboard/app/discovery_functions.py:39: SettingWithCopyWarning: \n",
      "A value is trying to be set on a copy of a slice from a DataFrame.\n",
      "Try using .loc[row_indexer,col_indexer] = value instead\n",
      "\n",
      "See the caveats in the documentation: https://pandas.pydata.org/pandas-docs/stable/user_guide/indexing.html#returning-a-view-versus-a-copy\n",
      "  dd_df[c] = dd_df[c].apply(lambda x: str(x))\n",
      "/home/ciphersmaug/Projects/master/transparency-logging/src/mining-dashboard/app/discovery_functions.py:44: SettingWithCopyWarning: \n",
      "A value is trying to be set on a copy of a slice from a DataFrame.\n",
      "Try using .loc[row_indexer,col_indexer] = value instead\n",
      "\n",
      "See the caveats in the documentation: https://pandas.pydata.org/pandas-docs/stable/user_guide/indexing.html#returning-a-view-versus-a-copy\n",
      "  unique_dd[\"tilt:element\"] = unique_dd.apply(build_data_disclosed_element,axis=1)\n"
     ]
    }
   ],
   "source": [
    "df_el = pd.read_csv(\"./data/transparency_event_log.csv\",sep=\",\")\n",
    "df_el[\"time:timestamp\"] = pd.to_datetime(df_el[\"time:timestamp\"],format=\"%Y-%m-%d %H:%M:%S,%f\")\n",
    "df_log_dd = disc_f.get_data_disclosed_df(df_el)\n",
    "df_log_dd = pd.merge(df_el,df_log_dd[[\"ident:eid\",\"id\"]].rename(columns={\"id\":\"tilt:dataDisclosed:id\"}),how=\"outer\",on=\"ident:eid\")#.drop(columns=[\"tilt:data_disclosed\",\"tilt:purposes\",\"tilt:legal_bases\",\"message\"])"
   ]
  },
  {
   "cell_type": "code",
   "execution_count": 11,
   "metadata": {},
   "outputs": [
    {
     "data": {
      "text/html": [
       "<div>\n",
       "<style scoped>\n",
       "    .dataframe tbody tr th:only-of-type {\n",
       "        vertical-align: middle;\n",
       "    }\n",
       "\n",
       "    .dataframe tbody tr th {\n",
       "        vertical-align: top;\n",
       "    }\n",
       "\n",
       "    .dataframe thead th {\n",
       "        text-align: right;\n",
       "    }\n",
       "</style>\n",
       "<table border=\"1\" class=\"dataframe\">\n",
       "  <thead>\n",
       "    <tr style=\"text-align: right;\">\n",
       "      <th></th>\n",
       "      <th>id_disc</th>\n",
       "      <th>name</th>\n",
       "      <th>id_norm</th>\n",
       "    </tr>\n",
       "  </thead>\n",
       "  <tbody>\n",
       "    <tr>\n",
       "      <th>1</th>\n",
       "      <td>19748727-0566-5a01-bf0a-43c4260f39cd</td>\n",
       "      <td>Process User Request</td>\n",
       "      <td>19748727-0566-5a01-bf0a-43c4260f39cd</td>\n",
       "    </tr>\n",
       "    <tr>\n",
       "      <th>14</th>\n",
       "      <td>7a0bd858-6c68-517d-88a2-0d3156d69d4e</td>\n",
       "      <td>Gather User Address</td>\n",
       "      <td>7a0bd858-6c68-517d-88a2-0d3156d69d4e</td>\n",
       "    </tr>\n",
       "    <tr>\n",
       "      <th>16</th>\n",
       "      <td>0101ffee-a1e8-599e-89ed-75f8574d50e3</td>\n",
       "      <td>Gather User Address</td>\n",
       "      <td>0101ffee-a1e8-599e-89ed-75f8574d50e3</td>\n",
       "    </tr>\n",
       "    <tr>\n",
       "      <th>18</th>\n",
       "      <td>ae78878f-caf4-5cac-8c8c-8f7730b0f6dc</td>\n",
       "      <td>Gather User Address</td>\n",
       "      <td>ae78878f-caf4-5cac-8c8c-8f7730b0f6dc</td>\n",
       "    </tr>\n",
       "    <tr>\n",
       "      <th>24</th>\n",
       "      <td>NaN</td>\n",
       "      <td>Inform Newsletter Service</td>\n",
       "      <td>fb924372-41c3-522b-8e53-11805cfd395c</td>\n",
       "    </tr>\n",
       "  </tbody>\n",
       "</table>\n",
       "</div>"
      ],
      "text/plain": [
       "                                 id_disc                       name  \\\n",
       "1   19748727-0566-5a01-bf0a-43c4260f39cd       Process User Request   \n",
       "14  7a0bd858-6c68-517d-88a2-0d3156d69d4e        Gather User Address   \n",
       "16  0101ffee-a1e8-599e-89ed-75f8574d50e3        Gather User Address   \n",
       "18  ae78878f-caf4-5cac-8c8c-8f7730b0f6dc        Gather User Address   \n",
       "24                                   NaN  Inform Newsletter Service   \n",
       "\n",
       "                                 id_norm  \n",
       "1   19748727-0566-5a01-bf0a-43c4260f39cd  \n",
       "14  7a0bd858-6c68-517d-88a2-0d3156d69d4e  \n",
       "16  0101ffee-a1e8-599e-89ed-75f8574d50e3  \n",
       "18  ae78878f-caf4-5cac-8c8c-8f7730b0f6dc  \n",
       "24  fb924372-41c3-522b-8e53-11805cfd395c  "
      ]
     },
     "execution_count": 11,
     "metadata": {},
     "output_type": "execute_result"
    }
   ],
   "source": [
    "df_disclosed_delta[~pd.isna(df_disclosed_delta[\"id_norm\"])]"
   ]
  },
  {
   "cell_type": "code",
   "execution_count": 12,
   "metadata": {},
   "outputs": [],
   "source": [
    "#df_el[df_el[\"tilt:dataDisclosed:id\"].isin(df_disclosed_delta[])]"
   ]
  },
  {
   "cell_type": "code",
   "execution_count": 13,
   "metadata": {},
   "outputs": [
    {
     "data": {
      "text/plain": [
       "{'concept:name': ['Send Data to User',\n",
       "  'Process User Request',\n",
       "  'Request User Address',\n",
       "  'Send Newsletter',\n",
       "  'Inform Newsletter Service',\n",
       "  'Send Newsletter',\n",
       "  'Inform Newsletter Service',\n",
       "  'Send Newsletter',\n",
       "  'Inform Newsletter Service',\n",
       "  'Send Newsletter',\n",
       "  'Inform Newsletter Service',\n",
       "  'Send Newsletter',\n",
       "  'Inform Newsletter Service',\n",
       "  'Inform Newsletter Service',\n",
       "  'Gather User Address',\n",
       "  'Combine User Data',\n",
       "  'Gather User Address',\n",
       "  'Combine User Data',\n",
       "  'Gather User Address',\n",
       "  'Combine User Data',\n",
       "  'Read Last Login',\n",
       "  'Combine User Data',\n",
       "  'Combine User Data',\n",
       "  'Combine User Data',\n",
       "  'Inform Newsletter Service'],\n",
       " 'tilt:dataDisclosed:id': [nan,\n",
       "  UUID('19748727-0566-5a01-bf0a-43c4260f39cd'),\n",
       "  nan,\n",
       "  nan,\n",
       "  nan,\n",
       "  nan,\n",
       "  nan,\n",
       "  nan,\n",
       "  nan,\n",
       "  nan,\n",
       "  nan,\n",
       "  nan,\n",
       "  nan,\n",
       "  nan,\n",
       "  UUID('7a0bd858-6c68-517d-88a2-0d3156d69d4e'),\n",
       "  nan,\n",
       "  UUID('0101ffee-a1e8-599e-89ed-75f8574d50e3'),\n",
       "  nan,\n",
       "  UUID('ae78878f-caf4-5cac-8c8c-8f7730b0f6dc'),\n",
       "  nan,\n",
       "  nan,\n",
       "  nan,\n",
       "  nan,\n",
       "  nan,\n",
       "  UUID('fb924372-41c3-522b-8e53-11805cfd395c')]}"
      ]
     },
     "execution_count": 13,
     "metadata": {},
     "output_type": "execute_result"
    }
   ],
   "source": [
    "df_disclosed_delta[[\"name\",\"id_norm\"]].rename(columns={\"name\":\"concept:name\",\"id_norm\":\"tilt:dataDisclosed:id\"}).to_dict(orient=\"list\")"
   ]
  },
  {
   "cell_type": "code",
   "execution_count": 14,
   "metadata": {},
   "outputs": [
    {
     "data": {
      "text/plain": [
       "UUID('19748727-0566-5a01-bf0a-43c4260f39cd')"
      ]
     },
     "execution_count": 14,
     "metadata": {},
     "output_type": "execute_result"
    }
   ],
   "source": [
    "df_disclosed_delta.iloc[0][\"id_disc\"]"
   ]
  },
  {
   "cell_type": "code",
   "execution_count": 15,
   "metadata": {},
   "outputs": [],
   "source": [
    "def isCompliant(row:pd.Series,df_disclosed_delta)->pd.Series:\n",
    "    id = str(row['tilt:dataDisclosed:id'])\n",
    "    df_disclosed_delta[\"id_norm\"] = df_disclosed_delta[\"id_norm\"].apply(lambda x: str(x))\n",
    "    result = df_disclosed_delta.query(f\"id_norm == '{id}' and name == '{row['concept:name']}'\")#[df_disclosed_delta[\"id_norm\"] == row[\"tilt:dataDisclosed:id\"]] and df_disclosed_delta[\"name\"]==row[\"concept:name\"]]\n",
    "    #result = df_disclosed_delta.loc[(df_disclosed_delta[\"id_norm\"]==id)and(df_disclosed_delta[\"name\"]==row[\"concept:name\"])]\n",
    "    if len(result) <1:\n",
    "        return False\n",
    "    else:\n",
    "        return True\n"
   ]
  },
  {
   "cell_type": "code",
   "execution_count": null,
   "metadata": {},
   "outputs": [],
   "source": []
  },
  {
   "cell_type": "code",
   "execution_count": 16,
   "metadata": {},
   "outputs": [
    {
     "data": {
      "text/plain": [
       "'19748727-0566-5a01-bf0a-43c4260f39cd'"
      ]
     },
     "execution_count": 16,
     "metadata": {},
     "output_type": "execute_result"
    }
   ],
   "source": [
    "str(uuid.UUID(\"19748727-0566-5a01-bf0a-43c4260f39cd\"))"
   ]
  },
  {
   "cell_type": "code",
   "execution_count": 17,
   "metadata": {},
   "outputs": [],
   "source": [
    "df_log_dd[\"tilt:isCompliant\"] = df_log_dd.apply(lambda x: isCompliant(x,df_disclosed_delta),axis=1)"
   ]
  },
  {
   "cell_type": "code",
   "execution_count": 18,
   "metadata": {},
   "outputs": [],
   "source": [
    "#df_log_dd[\"test:compliant\"].value_counts()"
   ]
  },
  {
   "cell_type": "code",
   "execution_count": 19,
   "metadata": {},
   "outputs": [],
   "source": [
    "#compliance = df_log_dd[[\"tilt:dataDisclosed:id\",\"concept:name\"]].isin(df_disclosed_delta[[\"name\",\"id_norm\"]].rename(columns={\"name\":\"concept:name\",\"id_norm\":\"tilt:dataDisclosed:id\"}))"
   ]
  },
  {
   "cell_type": "code",
   "execution_count": 20,
   "metadata": {},
   "outputs": [],
   "source": [
    "#compliance[\"concept:name\"].value_counts()"
   ]
  },
  {
   "cell_type": "code",
   "execution_count": null,
   "metadata": {},
   "outputs": [],
   "source": []
  },
  {
   "cell_type": "code",
   "execution_count": 21,
   "metadata": {},
   "outputs": [],
   "source": [
    "#df_log_dd[\"tilt:isCompliant\"] = compliance.apply(lambda x: x[0]==x[1]==True,axis=1)"
   ]
  },
  {
   "cell_type": "code",
   "execution_count": 22,
   "metadata": {},
   "outputs": [],
   "source": [
    "def calcualte_percentage_of_compliance(g,column = \"tilt:isCompliant\",new_colum = \"tilt:percentageCompliant\"):\n",
    "    g[new_colum] = g[column].sum()/len(g[column])\n",
    "    return g"
   ]
  },
  {
   "cell_type": "code",
   "execution_count": 23,
   "metadata": {},
   "outputs": [],
   "source": [
    "#for i,g in df_log_dd.groupby([\"case:concept:name\",\"time:timestamp\",\"concept:name\"]):\n",
    "#    if calcualte_percentage_of_compliance(g)[\"tilt:percentageCompliant\"].min() != 1.0 and len(g)>1:\n",
    "#        print(g[[\"message\",\"tilt:dataDisclosed:id\"]])\n",
    "#        break"
   ]
  },
  {
   "cell_type": "code",
   "execution_count": 24,
   "metadata": {},
   "outputs": [
    {
     "name": "stderr",
     "output_type": "stream",
     "text": [
      "/tmp/ipykernel_1490061/3620264725.py:1: FutureWarning: Not prepending group keys to the result index of transform-like apply. In the future, the group keys will be included in the index, regardless of whether the applied function returns a like-indexed object.\n",
      "To preserve the previous behavior, use\n",
      "\n",
      "\t>>> .groupby(..., group_keys=False)\n",
      "\n",
      "To adopt the future behavior and silence this warning, use \n",
      "\n",
      "\t>>> .groupby(..., group_keys=True)\n",
      "  df_activity_compliance = df_log_dd.groupby([\"case:concept:name\",\"time:timestamp\",\"concept:name\"]).apply(lambda x : calcualte_percentage_of_compliance(x))#.drop_duplicates([\"case:concept:name\",\"time:timestamp\",\"concept:name\"])\n"
     ]
    }
   ],
   "source": [
    "df_activity_compliance = df_log_dd.groupby([\"case:concept:name\",\"time:timestamp\",\"concept:name\"]).apply(lambda x : calcualte_percentage_of_compliance(x))#.drop_duplicates([\"case:concept:name\",\"time:timestamp\",\"concept:name\"])"
   ]
  },
  {
   "cell_type": "code",
   "execution_count": 25,
   "metadata": {},
   "outputs": [
    {
     "name": "stderr",
     "output_type": "stream",
     "text": [
      "/tmp/ipykernel_1490061/1579976359.py:1: FutureWarning: Not prepending group keys to the result index of transform-like apply. In the future, the group keys will be included in the index, regardless of whether the applied function returns a like-indexed object.\n",
      "To preserve the previous behavior, use\n",
      "\n",
      "\t>>> .groupby(..., group_keys=False)\n",
      "\n",
      "To adopt the future behavior and silence this warning, use \n",
      "\n",
      "\t>>> .groupby(..., group_keys=True)\n",
      "  df_cases_compliant = df_activity_compliance.groupby([\"case:concept:name\"]).apply(lambda x : calcualte_percentage_of_compliance(x,\"tilt:percentageCompliant\",\"tilt:case:percentageCompliant\")).drop_duplicates([\"case:concept:name\"])\n"
     ]
    }
   ],
   "source": [
    "df_cases_compliant = df_activity_compliance.groupby([\"case:concept:name\"]).apply(lambda x : calcualte_percentage_of_compliance(x,\"tilt:percentageCompliant\",\"tilt:case:percentageCompliant\")).drop_duplicates([\"case:concept:name\"])"
   ]
  },
  {
   "cell_type": "code",
   "execution_count": 26,
   "metadata": {},
   "outputs": [
    {
     "data": {
      "text/plain": [
       "0.111111       2\n",
       "0.166667     291\n",
       "0.235294       3\n",
       "0.307692    1217\n",
       "0.333333      20\n",
       "0.500000      67\n",
       "0.666667      26\n",
       "1.000000      36\n",
       "Name: tilt:case:percentageCompliant, dtype: int64"
      ]
     },
     "execution_count": 26,
     "metadata": {},
     "output_type": "execute_result"
    }
   ],
   "source": [
    "df_cases_compliant[\"tilt:case:percentageCompliant\"].value_counts().sort_index()"
   ]
  },
  {
   "cell_type": "code",
   "execution_count": 55,
   "metadata": {},
   "outputs": [],
   "source": [
    "incompliant_activities_df = pd.DataFrame(df_activity_compliance[~df_activity_compliance[\"tilt:isCompliant\"]][\"tilt:dataDisclosed:id\"].value_counts().sort_values(ascending=False)).reset_index().rename(columns={\"index\":\"tilt:dataDisclosed:id\",\"tilt:dataDisclosed:id\":\"count\"})"
   ]
  },
  {
   "cell_type": "code",
   "execution_count": 86,
   "metadata": {},
   "outputs": [
    {
     "data": {
      "application/vnd.plotly.v1+json": {
       "config": {
        "plotlyServerURL": "https://plot.ly"
       },
       "data": [
        {
         "alignmentgroup": "True",
         "hovertemplate": "variable=Percent of all Cases<br>Percent Compliant=%{x}<br>value=%{y}<extra></extra>",
         "legendgroup": "Percent of all Cases",
         "marker": {
          "color": "#636efa",
          "pattern": {
           "shape": ""
          }
         },
         "name": "Percent of all Cases",
         "offsetgroup": "Percent of all Cases",
         "orientation": "v",
         "showlegend": true,
         "textposition": "auto",
         "type": "bar",
         "x": [
          0.1111111111111111,
          0.16666666666666666,
          0.23529411764705882,
          0.3076923076923077,
          0.3333333333333333,
          0.5,
          0.6666666666666666,
          1
         ],
         "xaxis": "x",
         "y": [
          0.12033694344163659,
          17.509025270758123,
          0.18050541516245489,
          73.22503008423587,
          1.203369434416366,
          4.031287605294826,
          1.5643802647412757,
          2.166064981949458
         ],
         "yaxis": "y"
        }
       ],
       "layout": {
        "barmode": "relative",
        "legend": {
         "title": {
          "text": "variable"
         },
         "tracegroupgap": 0
        },
        "template": {
         "data": {
          "bar": [
           {
            "error_x": {
             "color": "#2a3f5f"
            },
            "error_y": {
             "color": "#2a3f5f"
            },
            "marker": {
             "line": {
              "color": "#E5ECF6",
              "width": 0.5
             },
             "pattern": {
              "fillmode": "overlay",
              "size": 10,
              "solidity": 0.2
             }
            },
            "type": "bar"
           }
          ],
          "barpolar": [
           {
            "marker": {
             "line": {
              "color": "#E5ECF6",
              "width": 0.5
             },
             "pattern": {
              "fillmode": "overlay",
              "size": 10,
              "solidity": 0.2
             }
            },
            "type": "barpolar"
           }
          ],
          "carpet": [
           {
            "aaxis": {
             "endlinecolor": "#2a3f5f",
             "gridcolor": "white",
             "linecolor": "white",
             "minorgridcolor": "white",
             "startlinecolor": "#2a3f5f"
            },
            "baxis": {
             "endlinecolor": "#2a3f5f",
             "gridcolor": "white",
             "linecolor": "white",
             "minorgridcolor": "white",
             "startlinecolor": "#2a3f5f"
            },
            "type": "carpet"
           }
          ],
          "choropleth": [
           {
            "colorbar": {
             "outlinewidth": 0,
             "ticks": ""
            },
            "type": "choropleth"
           }
          ],
          "contour": [
           {
            "colorbar": {
             "outlinewidth": 0,
             "ticks": ""
            },
            "colorscale": [
             [
              0,
              "#0d0887"
             ],
             [
              0.1111111111111111,
              "#46039f"
             ],
             [
              0.2222222222222222,
              "#7201a8"
             ],
             [
              0.3333333333333333,
              "#9c179e"
             ],
             [
              0.4444444444444444,
              "#bd3786"
             ],
             [
              0.5555555555555556,
              "#d8576b"
             ],
             [
              0.6666666666666666,
              "#ed7953"
             ],
             [
              0.7777777777777778,
              "#fb9f3a"
             ],
             [
              0.8888888888888888,
              "#fdca26"
             ],
             [
              1,
              "#f0f921"
             ]
            ],
            "type": "contour"
           }
          ],
          "contourcarpet": [
           {
            "colorbar": {
             "outlinewidth": 0,
             "ticks": ""
            },
            "type": "contourcarpet"
           }
          ],
          "heatmap": [
           {
            "colorbar": {
             "outlinewidth": 0,
             "ticks": ""
            },
            "colorscale": [
             [
              0,
              "#0d0887"
             ],
             [
              0.1111111111111111,
              "#46039f"
             ],
             [
              0.2222222222222222,
              "#7201a8"
             ],
             [
              0.3333333333333333,
              "#9c179e"
             ],
             [
              0.4444444444444444,
              "#bd3786"
             ],
             [
              0.5555555555555556,
              "#d8576b"
             ],
             [
              0.6666666666666666,
              "#ed7953"
             ],
             [
              0.7777777777777778,
              "#fb9f3a"
             ],
             [
              0.8888888888888888,
              "#fdca26"
             ],
             [
              1,
              "#f0f921"
             ]
            ],
            "type": "heatmap"
           }
          ],
          "heatmapgl": [
           {
            "colorbar": {
             "outlinewidth": 0,
             "ticks": ""
            },
            "colorscale": [
             [
              0,
              "#0d0887"
             ],
             [
              0.1111111111111111,
              "#46039f"
             ],
             [
              0.2222222222222222,
              "#7201a8"
             ],
             [
              0.3333333333333333,
              "#9c179e"
             ],
             [
              0.4444444444444444,
              "#bd3786"
             ],
             [
              0.5555555555555556,
              "#d8576b"
             ],
             [
              0.6666666666666666,
              "#ed7953"
             ],
             [
              0.7777777777777778,
              "#fb9f3a"
             ],
             [
              0.8888888888888888,
              "#fdca26"
             ],
             [
              1,
              "#f0f921"
             ]
            ],
            "type": "heatmapgl"
           }
          ],
          "histogram": [
           {
            "marker": {
             "pattern": {
              "fillmode": "overlay",
              "size": 10,
              "solidity": 0.2
             }
            },
            "type": "histogram"
           }
          ],
          "histogram2d": [
           {
            "colorbar": {
             "outlinewidth": 0,
             "ticks": ""
            },
            "colorscale": [
             [
              0,
              "#0d0887"
             ],
             [
              0.1111111111111111,
              "#46039f"
             ],
             [
              0.2222222222222222,
              "#7201a8"
             ],
             [
              0.3333333333333333,
              "#9c179e"
             ],
             [
              0.4444444444444444,
              "#bd3786"
             ],
             [
              0.5555555555555556,
              "#d8576b"
             ],
             [
              0.6666666666666666,
              "#ed7953"
             ],
             [
              0.7777777777777778,
              "#fb9f3a"
             ],
             [
              0.8888888888888888,
              "#fdca26"
             ],
             [
              1,
              "#f0f921"
             ]
            ],
            "type": "histogram2d"
           }
          ],
          "histogram2dcontour": [
           {
            "colorbar": {
             "outlinewidth": 0,
             "ticks": ""
            },
            "colorscale": [
             [
              0,
              "#0d0887"
             ],
             [
              0.1111111111111111,
              "#46039f"
             ],
             [
              0.2222222222222222,
              "#7201a8"
             ],
             [
              0.3333333333333333,
              "#9c179e"
             ],
             [
              0.4444444444444444,
              "#bd3786"
             ],
             [
              0.5555555555555556,
              "#d8576b"
             ],
             [
              0.6666666666666666,
              "#ed7953"
             ],
             [
              0.7777777777777778,
              "#fb9f3a"
             ],
             [
              0.8888888888888888,
              "#fdca26"
             ],
             [
              1,
              "#f0f921"
             ]
            ],
            "type": "histogram2dcontour"
           }
          ],
          "mesh3d": [
           {
            "colorbar": {
             "outlinewidth": 0,
             "ticks": ""
            },
            "type": "mesh3d"
           }
          ],
          "parcoords": [
           {
            "line": {
             "colorbar": {
              "outlinewidth": 0,
              "ticks": ""
             }
            },
            "type": "parcoords"
           }
          ],
          "pie": [
           {
            "automargin": true,
            "type": "pie"
           }
          ],
          "scatter": [
           {
            "fillpattern": {
             "fillmode": "overlay",
             "size": 10,
             "solidity": 0.2
            },
            "type": "scatter"
           }
          ],
          "scatter3d": [
           {
            "line": {
             "colorbar": {
              "outlinewidth": 0,
              "ticks": ""
             }
            },
            "marker": {
             "colorbar": {
              "outlinewidth": 0,
              "ticks": ""
             }
            },
            "type": "scatter3d"
           }
          ],
          "scattercarpet": [
           {
            "marker": {
             "colorbar": {
              "outlinewidth": 0,
              "ticks": ""
             }
            },
            "type": "scattercarpet"
           }
          ],
          "scattergeo": [
           {
            "marker": {
             "colorbar": {
              "outlinewidth": 0,
              "ticks": ""
             }
            },
            "type": "scattergeo"
           }
          ],
          "scattergl": [
           {
            "marker": {
             "colorbar": {
              "outlinewidth": 0,
              "ticks": ""
             }
            },
            "type": "scattergl"
           }
          ],
          "scattermapbox": [
           {
            "marker": {
             "colorbar": {
              "outlinewidth": 0,
              "ticks": ""
             }
            },
            "type": "scattermapbox"
           }
          ],
          "scatterpolar": [
           {
            "marker": {
             "colorbar": {
              "outlinewidth": 0,
              "ticks": ""
             }
            },
            "type": "scatterpolar"
           }
          ],
          "scatterpolargl": [
           {
            "marker": {
             "colorbar": {
              "outlinewidth": 0,
              "ticks": ""
             }
            },
            "type": "scatterpolargl"
           }
          ],
          "scatterternary": [
           {
            "marker": {
             "colorbar": {
              "outlinewidth": 0,
              "ticks": ""
             }
            },
            "type": "scatterternary"
           }
          ],
          "surface": [
           {
            "colorbar": {
             "outlinewidth": 0,
             "ticks": ""
            },
            "colorscale": [
             [
              0,
              "#0d0887"
             ],
             [
              0.1111111111111111,
              "#46039f"
             ],
             [
              0.2222222222222222,
              "#7201a8"
             ],
             [
              0.3333333333333333,
              "#9c179e"
             ],
             [
              0.4444444444444444,
              "#bd3786"
             ],
             [
              0.5555555555555556,
              "#d8576b"
             ],
             [
              0.6666666666666666,
              "#ed7953"
             ],
             [
              0.7777777777777778,
              "#fb9f3a"
             ],
             [
              0.8888888888888888,
              "#fdca26"
             ],
             [
              1,
              "#f0f921"
             ]
            ],
            "type": "surface"
           }
          ],
          "table": [
           {
            "cells": {
             "fill": {
              "color": "#EBF0F8"
             },
             "line": {
              "color": "white"
             }
            },
            "header": {
             "fill": {
              "color": "#C8D4E3"
             },
             "line": {
              "color": "white"
             }
            },
            "type": "table"
           }
          ]
         },
         "layout": {
          "annotationdefaults": {
           "arrowcolor": "#2a3f5f",
           "arrowhead": 0,
           "arrowwidth": 1
          },
          "autotypenumbers": "strict",
          "coloraxis": {
           "colorbar": {
            "outlinewidth": 0,
            "ticks": ""
           }
          },
          "colorscale": {
           "diverging": [
            [
             0,
             "#8e0152"
            ],
            [
             0.1,
             "#c51b7d"
            ],
            [
             0.2,
             "#de77ae"
            ],
            [
             0.3,
             "#f1b6da"
            ],
            [
             0.4,
             "#fde0ef"
            ],
            [
             0.5,
             "#f7f7f7"
            ],
            [
             0.6,
             "#e6f5d0"
            ],
            [
             0.7,
             "#b8e186"
            ],
            [
             0.8,
             "#7fbc41"
            ],
            [
             0.9,
             "#4d9221"
            ],
            [
             1,
             "#276419"
            ]
           ],
           "sequential": [
            [
             0,
             "#0d0887"
            ],
            [
             0.1111111111111111,
             "#46039f"
            ],
            [
             0.2222222222222222,
             "#7201a8"
            ],
            [
             0.3333333333333333,
             "#9c179e"
            ],
            [
             0.4444444444444444,
             "#bd3786"
            ],
            [
             0.5555555555555556,
             "#d8576b"
            ],
            [
             0.6666666666666666,
             "#ed7953"
            ],
            [
             0.7777777777777778,
             "#fb9f3a"
            ],
            [
             0.8888888888888888,
             "#fdca26"
            ],
            [
             1,
             "#f0f921"
            ]
           ],
           "sequentialminus": [
            [
             0,
             "#0d0887"
            ],
            [
             0.1111111111111111,
             "#46039f"
            ],
            [
             0.2222222222222222,
             "#7201a8"
            ],
            [
             0.3333333333333333,
             "#9c179e"
            ],
            [
             0.4444444444444444,
             "#bd3786"
            ],
            [
             0.5555555555555556,
             "#d8576b"
            ],
            [
             0.6666666666666666,
             "#ed7953"
            ],
            [
             0.7777777777777778,
             "#fb9f3a"
            ],
            [
             0.8888888888888888,
             "#fdca26"
            ],
            [
             1,
             "#f0f921"
            ]
           ]
          },
          "colorway": [
           "#636efa",
           "#EF553B",
           "#00cc96",
           "#ab63fa",
           "#FFA15A",
           "#19d3f3",
           "#FF6692",
           "#B6E880",
           "#FF97FF",
           "#FECB52"
          ],
          "font": {
           "color": "#2a3f5f"
          },
          "geo": {
           "bgcolor": "white",
           "lakecolor": "white",
           "landcolor": "#E5ECF6",
           "showlakes": true,
           "showland": true,
           "subunitcolor": "white"
          },
          "hoverlabel": {
           "align": "left"
          },
          "hovermode": "closest",
          "mapbox": {
           "style": "light"
          },
          "paper_bgcolor": "white",
          "plot_bgcolor": "#E5ECF6",
          "polar": {
           "angularaxis": {
            "gridcolor": "white",
            "linecolor": "white",
            "ticks": ""
           },
           "bgcolor": "#E5ECF6",
           "radialaxis": {
            "gridcolor": "white",
            "linecolor": "white",
            "ticks": ""
           }
          },
          "scene": {
           "xaxis": {
            "backgroundcolor": "#E5ECF6",
            "gridcolor": "white",
            "gridwidth": 2,
            "linecolor": "white",
            "showbackground": true,
            "ticks": "",
            "zerolinecolor": "white"
           },
           "yaxis": {
            "backgroundcolor": "#E5ECF6",
            "gridcolor": "white",
            "gridwidth": 2,
            "linecolor": "white",
            "showbackground": true,
            "ticks": "",
            "zerolinecolor": "white"
           },
           "zaxis": {
            "backgroundcolor": "#E5ECF6",
            "gridcolor": "white",
            "gridwidth": 2,
            "linecolor": "white",
            "showbackground": true,
            "ticks": "",
            "zerolinecolor": "white"
           }
          },
          "shapedefaults": {
           "line": {
            "color": "#2a3f5f"
           }
          },
          "ternary": {
           "aaxis": {
            "gridcolor": "white",
            "linecolor": "white",
            "ticks": ""
           },
           "baxis": {
            "gridcolor": "white",
            "linecolor": "white",
            "ticks": ""
           },
           "bgcolor": "#E5ECF6",
           "caxis": {
            "gridcolor": "white",
            "linecolor": "white",
            "ticks": ""
           }
          },
          "title": {
           "x": 0.05
          },
          "xaxis": {
           "automargin": true,
           "gridcolor": "white",
           "linecolor": "white",
           "ticks": "",
           "title": {
            "standoff": 15
           },
           "zerolinecolor": "white",
           "zerolinewidth": 2
          },
          "yaxis": {
           "automargin": true,
           "gridcolor": "white",
           "linecolor": "white",
           "ticks": "",
           "title": {
            "standoff": 15
           },
           "zerolinecolor": "white",
           "zerolinewidth": 2
          }
         }
        },
        "title": {
         "text": "Case percentage of data disclosed compliance"
        },
        "xaxis": {
         "anchor": "y",
         "domain": [
          0,
          1
         ],
         "title": {
          "text": "Percent Compliant"
         }
        },
        "yaxis": {
         "anchor": "x",
         "domain": [
          0,
          1
         ],
         "title": {
          "text": "value"
         }
        }
       }
      }
     },
     "metadata": {},
     "output_type": "display_data"
    }
   ],
   "source": [
    "bar_data = df_cases_compliant[\"tilt:case:percentageCompliant\"].value_counts().apply(lambda x: x/df_cases_compliant[\"tilt:case:percentageCompliant\"].value_counts().sum()).sort_index(ascending=True)\n",
    "bar_data.index.name = \"Percent Compliant\"\n",
    "bar_data = bar_data.rename(index=\"Percent of all Cases\")\n",
    "bar_data = bar_data * 100\n",
    "fig = px.bar(bar_data,title=\"Case percentage of data disclosed compliance\")\n",
    "fig.show()"
   ]
  },
  {
   "cell_type": "code",
   "execution_count": 137,
   "metadata": {},
   "outputs": [
    {
     "data": {
      "text/html": [
       "<div>\n",
       "<style scoped>\n",
       "    .dataframe tbody tr th:only-of-type {\n",
       "        vertical-align: middle;\n",
       "    }\n",
       "\n",
       "    .dataframe tbody tr th {\n",
       "        vertical-align: top;\n",
       "    }\n",
       "\n",
       "    .dataframe thead th {\n",
       "        text-align: right;\n",
       "    }\n",
       "</style>\n",
       "<table border=\"1\" class=\"dataframe\">\n",
       "  <thead>\n",
       "    <tr style=\"text-align: right;\">\n",
       "      <th></th>\n",
       "      <th>Percent Compliant</th>\n",
       "      <th>Percent of all Cases</th>\n",
       "    </tr>\n",
       "  </thead>\n",
       "  <tbody>\n",
       "    <tr>\n",
       "      <th>0</th>\n",
       "      <td>0.111111</td>\n",
       "      <td>0.120337</td>\n",
       "    </tr>\n",
       "    <tr>\n",
       "      <th>1</th>\n",
       "      <td>0.166667</td>\n",
       "      <td>17.509025</td>\n",
       "    </tr>\n",
       "    <tr>\n",
       "      <th>2</th>\n",
       "      <td>0.235294</td>\n",
       "      <td>0.180505</td>\n",
       "    </tr>\n",
       "    <tr>\n",
       "      <th>3</th>\n",
       "      <td>0.307692</td>\n",
       "      <td>73.225030</td>\n",
       "    </tr>\n",
       "    <tr>\n",
       "      <th>4</th>\n",
       "      <td>0.333333</td>\n",
       "      <td>1.203369</td>\n",
       "    </tr>\n",
       "    <tr>\n",
       "      <th>5</th>\n",
       "      <td>0.500000</td>\n",
       "      <td>4.031288</td>\n",
       "    </tr>\n",
       "    <tr>\n",
       "      <th>6</th>\n",
       "      <td>0.666667</td>\n",
       "      <td>1.564380</td>\n",
       "    </tr>\n",
       "    <tr>\n",
       "      <th>7</th>\n",
       "      <td>1.000000</td>\n",
       "      <td>2.166065</td>\n",
       "    </tr>\n",
       "  </tbody>\n",
       "</table>\n",
       "</div>"
      ],
      "text/plain": [
       "   Percent Compliant  Percent of all Cases\n",
       "0           0.111111              0.120337\n",
       "1           0.166667             17.509025\n",
       "2           0.235294              0.180505\n",
       "3           0.307692             73.225030\n",
       "4           0.333333              1.203369\n",
       "5           0.500000              4.031288\n",
       "6           0.666667              1.564380\n",
       "7           1.000000              2.166065"
      ]
     },
     "execution_count": 137,
     "metadata": {},
     "output_type": "execute_result"
    }
   ],
   "source": [
    "bar_data.reset_index()"
   ]
  },
  {
   "cell_type": "code",
   "execution_count": 129,
   "metadata": {},
   "outputs": [
    {
     "data": {
      "text/plain": [
       "0     0.013371\n",
       "1     2.918171\n",
       "2     0.042472\n",
       "3    22.530778\n",
       "4     0.401123\n",
       "5     2.015644\n",
       "6     1.042920\n",
       "7     2.166065\n",
       "dtype: float64"
      ]
     },
     "execution_count": 129,
     "metadata": {},
     "output_type": "execute_result"
    }
   ],
   "source": [
    "(bar_data.reset_index().iloc[:,0]*bar_data.reset_index().iloc[:,1])"
   ]
  }
 ],
 "metadata": {
  "kernelspec": {
   "display_name": "env",
   "language": "python",
   "name": "python3"
  },
  "language_info": {
   "codemirror_mode": {
    "name": "ipython",
    "version": 3
   },
   "file_extension": ".py",
   "mimetype": "text/x-python",
   "name": "python",
   "nbconvert_exporter": "python",
   "pygments_lexer": "ipython3",
   "version": "3.9.16"
  },
  "orig_nbformat": 4
 },
 "nbformat": 4,
 "nbformat_minor": 2
}
