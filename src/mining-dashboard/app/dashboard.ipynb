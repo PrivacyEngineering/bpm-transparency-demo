{
 "cells": [
  {
   "attachments": {},
   "cell_type": "markdown",
   "metadata": {},
   "source": [
    "- Collect rules from BPMN File\n",
    "- Collect rules from Discovered BPMN / Event Log\n",
    "- Create Metrics\n",
    "- Modify the BPMN File\n",
    "- Put in Streamlit App"
   ]
  },
  {
   "cell_type": "code",
   "execution_count": 1,
   "metadata": {},
   "outputs": [],
   "source": [
    "import xmltodict\n",
    "import pandas as pd\n",
    "import uuid"
   ]
  },
  {
   "cell_type": "code",
   "execution_count": 2,
   "metadata": {},
   "outputs": [],
   "source": [
    "def get_bpmn_element_by_value(d : dict, value, path=(), k=\"@name\"):\n",
    "    found_element = ({},None)  \n",
    "    for key, val in d.items():\n",
    "        if key == k:\n",
    "            if val == value:\n",
    "                found_element = d, path\n",
    "        if type(val) == list:\n",
    "            for c,i in enumerate(val):\n",
    "                if type(i)!=dict:\n",
    "                    continue\n",
    "                found_element = get_bpmn_element_by_value(i,value,path=path+(key,c,),k=k)\n",
    "                if found_element != ({},None):\n",
    "                    break\n",
    "        elif type(val) == dict:\n",
    "            found_element = get_bpmn_element_by_value(d[key],value,path=path+(key,),k=k)\n",
    "        if found_element != ({},None):\n",
    "            break\n",
    "    return found_element"
   ]
  },
  {
   "cell_type": "code",
   "execution_count": 3,
   "metadata": {},
   "outputs": [],
   "source": [
    "def get_list_of_elements_containing_key(d,k,l=[]):\n",
    "    if k in d.keys():\n",
    "        l = l +[d]\n",
    "    else:\n",
    "        for key, val in d.items():\n",
    "            if type(val) == list:\n",
    "                for c,i in enumerate(val):\n",
    "                    if type(i)!=dict:\n",
    "                        continue\n",
    "                    l = get_list_of_elements_containing_key(i,k,l)\n",
    "            elif type(val) == dict:\n",
    "                l = get_list_of_elements_containing_key(val,k,l)\n",
    "    return l"
   ]
  },
  {
   "cell_type": "code",
   "execution_count": 4,
   "metadata": {},
   "outputs": [],
   "source": [
    "def filter_list_for_element(l=[],key=\"bpmn:extensionElements\", nested_key=\"tilt:dataDisclosed\"):\n",
    "    new_l = []\n",
    "    for i in l:\n",
    "        present_keys = i[key].keys()\n",
    "        if \"@name\" not in i.keys(): continue\n",
    "        for j in present_keys:\n",
    "            if nested_key in j:\n",
    "                new_l.append(i)\n",
    "                break\n",
    "    return new_l"
   ]
  },
  {
   "cell_type": "code",
   "execution_count": 5,
   "metadata": {},
   "outputs": [],
   "source": [
    "with open('./data/discovered_process.bpmn', 'r', encoding='utf-8') as file:\n",
    "    test_xml = file.read()\n",
    "with open('./data/diagram_1.bpmn', 'r', encoding='utf-8') as file:\n",
    "    normative_xml = file.read()\n",
    "\n",
    "test_bpmn = xmltodict.parse(test_xml)\n",
    "normative_bpmn = xmltodict.parse(normative_xml)"
   ]
  },
  {
   "cell_type": "code",
   "execution_count": 6,
   "metadata": {},
   "outputs": [],
   "source": [
    "test_tilt_elements = filter_list_for_element(\n",
    "    get_list_of_elements_containing_key(test_bpmn,\"bpmn:extensionElements\",[]),\n",
    "    key=\"bpmn:extensionElements\",\n",
    "    nested_key=\"tilt:dataDisclosed\"\n",
    "    )\n",
    "normative_tilt_elements = filter_list_for_element(\n",
    "    get_list_of_elements_containing_key(normative_bpmn,\"bpmn:extensionElements\",[]),\n",
    "    key=\"bpmn:extensionElements\",\n",
    "    nested_key=\"tilt:dataDisclosed\"\n",
    "    )"
   ]
  },
  {
   "cell_type": "code",
   "execution_count": 7,
   "metadata": {},
   "outputs": [],
   "source": [
    "test_data_disclosed_elements = []\n",
    "for i in test_tilt_elements:\n",
    "    if type(i[\"bpmn:extensionElements\"][\"tilt:dataDisclosed\"]) != list:\n",
    "        i[\"bpmn:extensionElements\"][\"tilt:dataDisclosed\"] = [i[\"bpmn:extensionElements\"][\"tilt:dataDisclosed\"]]\n",
    "    for j in i[\"bpmn:extensionElements\"][\"tilt:dataDisclosed\"]:\n",
    "        test_data_disclosed_elements.append((i[\"@name\"],j[\"@_id\"],))\n",
    "\n",
    "normative_data_disclosed_elements = []\n",
    "for i in normative_tilt_elements:\n",
    "    if \"tilt:dataDisclosed\" not in i[\"bpmn:extensionElements\"].keys() or \"@name\" not in i.keys():\n",
    "        continue\n",
    "    if type(i[\"bpmn:extensionElements\"][\"tilt:dataDisclosed\"]) != list:\n",
    "        i[\"bpmn:extensionElements\"][\"tilt:dataDisclosed\"] = [i[\"bpmn:extensionElements\"][\"tilt:dataDisclosed\"]]\n",
    "    for j in i[\"bpmn:extensionElements\"][\"tilt:dataDisclosed\"]:\n",
    "        normative_data_disclosed_elements.append((i[\"@name\"],j[\"@_id\"],))"
   ]
  },
  {
   "cell_type": "code",
   "execution_count": 8,
   "metadata": {},
   "outputs": [],
   "source": [
    "def append_values_to_list(d, key, value_id):\n",
    "    l = []\n",
    "    if key in d.keys():\n",
    "        if type(d[key]) == list:\n",
    "            for i in d[key]:\n",
    "                l.append(i[value_id])\n",
    "        else:\n",
    "            l.append(d[key][value_id])\n",
    "    return l\n",
    "\n",
    "def build_data_disclosed_element(d):\n",
    "    if type(d) != dict: return\n",
    "    c = d[\"@category\"] if \"@category\" in d.keys() else \"\"\n",
    "    p = append_values_to_list(d,\"tilt:purposes\",\"@purpose\")\n",
    "    l = append_values_to_list(d,\"tilt:legalBases\",\"@reference\")\n",
    "    element = {\"@category\": c,\n",
    "               \"tilt:purposes\": p,\n",
    "               \"tilt:legalBases\":l}\n",
    "    return str(hash(str(element))),element,d[\"@_id\"]"
   ]
  },
  {
   "cell_type": "code",
   "execution_count": 9,
   "metadata": {},
   "outputs": [],
   "source": [
    "test_new_ids = []\n",
    "for i in test_tilt_elements:\n",
    "    for j in i[\"bpmn:extensionElements\"][\"tilt:dataDisclosed\"]:\n",
    "        test_new_ids = test_new_ids + [build_data_disclosed_element(j)]\n",
    "normative_new_ids = []\n",
    "for i in normative_tilt_elements:\n",
    "    for j in i[\"bpmn:extensionElements\"][\"tilt:dataDisclosed\"]:\n",
    "        normative_new_ids = normative_new_ids + [build_data_disclosed_element(j)]"
   ]
  },
  {
   "cell_type": "code",
   "execution_count": 10,
   "metadata": {},
   "outputs": [],
   "source": [
    "df_test_new = pd.DataFrame(test_new_ids,columns=[\"id_test\",\"dict\",\"old_id\"]).dropna()\n",
    "df_test_old = pd.DataFrame(test_data_disclosed_elements,columns=[\"name\",\"old_id\"]).dropna()\n",
    "df_data_disclosed_test = pd.merge(df_test_new,df_test_old,how=\"outer\",on=\"old_id\").drop_duplicates([\"id_test\",\"name\",\"old_id\"])"
   ]
  },
  {
   "cell_type": "code",
   "execution_count": 11,
   "metadata": {},
   "outputs": [],
   "source": [
    "df_normative_new = pd.DataFrame(normative_new_ids,columns=[\"id_norm\",\"dict\",\"old_id\"]).dropna()\n",
    "df_normative_old = pd.DataFrame(normative_data_disclosed_elements,columns=[\"name\",\"old_id\"]).dropna()\n",
    "df_data_disclosed_normative = pd.merge(df_normative_new,df_normative_old,how=\"outer\",on=\"old_id\").drop_duplicates([\"id_norm\",\"name\",\"old_id\"])"
   ]
  },
  {
   "cell_type": "code",
   "execution_count": 12,
   "metadata": {},
   "outputs": [],
   "source": [
    "combined_df = pd.merge(df_data_disclosed_test[[\"id_test\",\"name\"]],df_data_disclosed_normative[[\"id_norm\",\"name\"]],how=\"outer\",left_on=[\"id_test\",\"name\"],right_on=[\"id_norm\",\"name\"])#.drop_duplicates()"
   ]
  },
  {
   "attachments": {},
   "cell_type": "markdown",
   "metadata": {},
   "source": [
    "Unused Elements\n",
    "Not Modeled Elements\n",
    "\n",
    "Mark not used elements in normative\n",
    "add not modeled elements to normative\n",
    "\n",
    "mark not used in test\n",
    "additional activities that are not compliant"
   ]
  },
  {
   "cell_type": "code",
   "execution_count": 13,
   "metadata": {},
   "outputs": [],
   "source": [
    "#All additional Processing that is not defined in the model \n",
    "faulty_processing = combined_df[pd.isna(combined_df[\"id_norm\"])]"
   ]
  },
  {
   "cell_type": "code",
   "execution_count": 14,
   "metadata": {},
   "outputs": [
    {
     "data": {
      "text/plain": [
       "({}, None)"
      ]
     },
     "execution_count": 14,
     "metadata": {},
     "output_type": "execute_result"
    }
   ],
   "source": [
    "get_bpmn_element_by_value(normative_bpmn,\"Send Data to User\")"
   ]
  },
  {
   "cell_type": "code",
   "execution_count": 15,
   "metadata": {},
   "outputs": [],
   "source": [
    "def get_bpmn_element_by_type(d:dict,t)->list:\n",
    "    if t in d.keys():\n",
    "        return[d[t]]\n",
    "    found_elements = []\n",
    "    for key, val in d.items():\n",
    "        if type(val) == dict:\n",
    "            rec = get_bpmn_element_by_type(val,t)\n",
    "            if rec:\n",
    "                found_elements = found_elements + rec\n",
    "            continue\n",
    "        if val is None:\n",
    "            continue\n",
    "        for v in val:\n",
    "            if v == t:\n",
    "                found_elements = found_elements + found_elements + d[key][t]\n",
    "            elif type(v) == list:\n",
    "                for i in v:\n",
    "                    if type(i) == dict:\n",
    "                        rec = get_bpmn_element_by_type(i,t)\n",
    "                        if rec:\n",
    "                            found_elements = found_elements + rec\n",
    "            elif type(v)==dict:\n",
    "                rec = get_bpmn_element_by_type(v,t)\n",
    "                if rec:\n",
    "                    found_elements = found_elements + rec\n",
    "    return found_elements if len(found_elements) > 0 else None\n",
    "\n",
    "def append_to_element_by_type(d:dict,t,key,new_element)->dict:\n",
    "    found_elements = get_bpmn_element_by_type(d,t)\n",
    "    found_element = found_elements[0]#[0]\n",
    "    if t != \"bpmndi:BPMNPlane\":\n",
    "        found_shapes = get_bpmn_element_by_type(d,\"bpmndi:BPMNPlane\")\n",
    "        #found_shapes[0][\"bpmndi:BPMNShape\"].append({'@id': new_element[\"@id\"]+\"_di\",\n",
    "        #        '@bpmnElement': new_element[\"@id\"],\n",
    "        #        'dc:Bounds': {'@x': '100', '@y': '100', '@width': '100', '@height': '80'},\n",
    "        #        'bpmndi:BPMNLabel': None})\n",
    "        print(found_element)\n",
    "    #found_element[key] = new_element\n",
    "    return d"
   ]
  },
  {
   "cell_type": "code",
   "execution_count": 16,
   "metadata": {},
   "outputs": [],
   "source": [
    "def modify_by_activity(activity,old_id,bpmn,other_bpmn=None):\n",
    "    error_element, *n = get_bpmn_element_by_value(bpmn,activity)\n",
    "    if error_element == {}:\n",
    "        return bpmn\n",
    "        append_to_element_by_type(bpmn,\"bpmn:process\",\"bpmn:task\",{\"@id\":\"Activity_\"+activity.replace(\" \",\"_\"),\"@name\":activity})\n",
    "        error_element, *n = get_bpmn_element_by_value(bpmn,activity)\n",
    "    error_data_disclosed, *n = get_bpmn_element_by_value(error_element,old_id,k=\"@_id\")\n",
    "    element_id = error_element[\"@id\"]\n",
    "    shape, *n= get_bpmn_element_by_value(bpmn,element_id,k=\"@bpmnElement\")\n",
    "    #shape[\"@bioc:stroke\"] =\"#000000\"\n",
    "    shape[\"@bioc:fill\"]=\"#BD523E\"\n",
    "    shape[\"@color:background-color\"]=\"#BD523E\"\n",
    "    #shape[\"@color:border-color\"]=\"#BD523E\"\n",
    "    if error_data_disclosed == {}:\n",
    "        #TODO Falls das Data Disclosed Feld nicht im Diagramm existiert, dann muss es hinzugefügt werden....\n",
    "        #error_data_disclosed, *n = get_bpmn_element_by_value()\n",
    "        #print(activity,error_element,old_id)\n",
    "        return bpmn\n",
    "    if \"UNCOMPLIANT:\" not in error_data_disclosed[\"@category\"]:\n",
    "        error_data_disclosed[\"@category\"] = \"UNCOMPLIANT:\"+error_data_disclosed[\"@category\"]\n",
    "    return bpmn"
   ]
  },
  {
   "cell_type": "code",
   "execution_count": 17,
   "metadata": {},
   "outputs": [],
   "source": [
    "modified_bpmn = test_bpmn\n",
    "for index,series in faulty_processing.iterrows():\n",
    "    old_id = df_data_disclosed_test[df_data_disclosed_test[\"id_test\"] == series[\"id_test\"]][\"old_id\"].values[0]\n",
    "    modified_bpmn = modify_by_activity(series[\"name\"],old_id,modified_bpmn)\n",
    "with open('./data/test_coloured_without_unused.bpmn', 'w', encoding='utf-8') as file:\n",
    "    file.writelines(xmltodict.unparse(modified_bpmn))"
   ]
  },
  {
   "cell_type": "code",
   "execution_count": 18,
   "metadata": {},
   "outputs": [],
   "source": [
    "def modify_by_unused(activity,old_id,bpmn):\n",
    "    error_element, *n = get_bpmn_element_by_value(bpmn,activity)\n",
    "    error_data_disclosed, *n = get_bpmn_element_by_value(error_element,old_id,k=\"@_id\")\n",
    "    if error_data_disclosed =={}:\n",
    "        return bpmn\n",
    "    if \"UNUSED:\" not in error_data_disclosed[\"@category\"]:\n",
    "        error_data_disclosed[\"@category\"] = \"UNUSED:\"+error_data_disclosed[\"@category\"]\n",
    "    element_id = error_element[\"@id\"]\n",
    "    shape, *n= get_bpmn_element_by_value(bpmn,element_id,k=\"@bpmnElement\")\n",
    "    shape[\"@bioc:stroke\"] =\"EFE9CE\"\n",
    "    #shape[\"@bioc:fill\"]=\"#8728E3\"\n",
    "    #shape[\"@color:background-color\"]=\"#ffe0b2\"\n",
    "    shape[\"@color:border-color\"]=\"#EFE9CE\"\n",
    "    return bpmn"
   ]
  },
  {
   "cell_type": "code",
   "execution_count": 19,
   "metadata": {},
   "outputs": [],
   "source": [
    "modified_bpmn = normative_bpmn\n",
    "unused_processing = combined_df[pd.isna(combined_df[\"id_test\"])]\n",
    "notmodeled_processing = combined_df[pd.isna(combined_df[\"id_norm\"])]\n",
    "for index,series in unused_processing.iterrows():\n",
    "    old_id = df_data_disclosed_normative[df_data_disclosed_normative[\"id_norm\"] == series[\"id_norm\"]][\"old_id\"].values[0]\n",
    "    modified_bpmn = modify_by_unused(series[\"name\"],old_id,modified_bpmn)\n",
    "for index,series in faulty_processing.iterrows():\n",
    "    old_id = df_data_disclosed_test[df_data_disclosed_test[\"id_test\"] == series[\"id_test\"]][\"old_id\"].values[0]\n",
    "    modified_bpmn = modify_by_activity(series[\"name\"],old_id,modified_bpmn)\n",
    "\n",
    "with open('./data/norm_coloured_without_discovered.bpmn', 'w', encoding='utf-8') as file:\n",
    "    file.writelines(xmltodict.unparse(modified_bpmn))"
   ]
  }
 ],
 "metadata": {
  "kernelspec": {
   "display_name": "env",
   "language": "python",
   "name": "python3"
  },
  "language_info": {
   "codemirror_mode": {
    "name": "ipython",
    "version": 3
   },
   "file_extension": ".py",
   "mimetype": "text/x-python",
   "name": "python",
   "nbconvert_exporter": "python",
   "pygments_lexer": "ipython3",
   "version": "3.9.16"
  },
  "orig_nbformat": 4
 },
 "nbformat": 4,
 "nbformat_minor": 2
}
