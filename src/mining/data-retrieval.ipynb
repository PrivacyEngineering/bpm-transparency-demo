{
 "cells": [
  {
   "cell_type": "code",
   "execution_count": 26,
   "metadata": {},
   "outputs": [],
   "source": [
    "from elasticsearch7 import Elasticsearch\n",
    "import numpy as np\n",
    "import pandas as pd\n",
    "import json"
   ]
  },
  {
   "cell_type": "code",
   "execution_count": 27,
   "metadata": {},
   "outputs": [],
   "source": [
    "es = Elasticsearch(hosts=\"http://localhost:9200\")"
   ]
  },
  {
   "cell_type": "code",
   "execution_count": 28,
   "metadata": {},
   "outputs": [],
   "source": [
    "response = es.search(index=\"fluentd-k8s\",body={\"track_total_hits\": True})\n",
    "hit_count = response[\"hits\"][\"total\"][\"value\"]"
   ]
  },
  {
   "cell_type": "code",
   "execution_count": 30,
   "metadata": {},
   "outputs": [
    {
     "data": {
      "text/plain": [
       "10000"
      ]
     },
     "execution_count": 30,
     "metadata": {},
     "output_type": "execute_result"
    }
   ],
   "source": [
    "hit_count"
   ]
  },
  {
   "cell_type": "code",
   "execution_count": 21,
   "metadata": {},
   "outputs": [],
   "source": [
    "response = es.search(index=\"fluentd-k8s\", size=hit_count)"
   ]
  },
  {
   "cell_type": "code",
   "execution_count": 22,
   "metadata": {},
   "outputs": [],
   "source": [
    "docs = response[\"hits\"][\"hits\"]"
   ]
  },
  {
   "cell_type": "code",
   "execution_count": 23,
   "metadata": {},
   "outputs": [
    {
     "data": {
      "text/plain": [
       "8617"
      ]
     },
     "execution_count": 23,
     "metadata": {},
     "output_type": "execute_result"
    }
   ],
   "source": [
    "len(docs)"
   ]
  },
  {
   "cell_type": "code",
   "execution_count": 8,
   "metadata": {},
   "outputs": [],
   "source": [
    "docs = response[\"hits\"][\"hits\"]\n",
    "fields = {}\n",
    "for num, doc in enumerate(docs):\n",
    "    source_data = doc[\"_source\"]\n",
    "    for key, val in source_data.items():\n",
    "        if key == \"log\":\n",
    "            try:\n",
    "                fields[key] = np.append(fields[key], val)\n",
    "            except KeyError:\n",
    "                fields[key] = np.array([val])\n",
    "    # do stuff here!"
   ]
  },
  {
   "cell_type": "code",
   "execution_count": 10,
   "metadata": {},
   "outputs": [
    {
     "data": {
      "text/plain": [
       "{'log': array(['{\"time:timestamp\": \"2023-04-23 15:18:53,689\",\"case:concept:name\":\"0x9a6cd07b69bd1edbc51a6ccbf9bd24fb\",\"concept:name\": \"Request User Address\",\"message\": \"Request User Address\",\"tilt\": \"{\\'data_disclosed\\': [\\'user.id\\'], \\'purposes\\': [\\'personal data access\\'], \\'legal_bases\\': [\\'GDPR-6-1-b\\']}\"}\\n',\n",
       "        '{\"time:timestamp\": \"2023-04-23 15:18:54,192\",\"case:concept:name\":\"0x286109616e05cb5061ad956b3af40de9\",\"concept:name\": \"Request User Address\",\"message\": \"Request User Address\",\"tilt\": \"{\\'data_disclosed\\': [\\'user.id\\'], \\'purposes\\': [\\'personal data access\\'], \\'legal_bases\\': [\\'GDPR-6-1-b\\']}\"}\\n',\n",
       "        '{\"time:timestamp\": \"2023-04-23 15:18:54,204\",\"case:concept:name\":\"0x286109616e05cb5061ad956b3af40de9\",\"concept:name\": \"Combine User Data\",\"message\": \"Combine User Data\",\"tilt\": \"{\\'data_disclosed\\': [\\'user.firstname\\', \\'user.lastname\\', \\'user.birthday\\', \\'address.street\\', \\'address.postcode\\', \\'address.number\\'], \\'purposes\\': [\\'personal data access\\'], \\'legal_bases\\': [\\'GDPR-6-1-b\\']}\"}\\n',\n",
       "        ...,\n",
       "        '{\"time:timestamp\": \"2023-04-23 15:21:35,286\",\"case:concept:name\":\"0xa9f5b12f6de704e35262bf21d9265c41\",\"concept:name\": \"Send Newsletter\",\"message\": \"Send Newsletter\",\"tilt\": \"{\\'data_disclosed\\': [\\'user.firstname\\', \\'user.lastname\\', \\'address.street\\', \\'address.number\\', \\'address.postcode\\'], \\'purposes\\': [\\'newsletter\\'], \\'legal_bases\\': [\\'GDPR-6-1-a\\']}\"}\\n',\n",
       "        '{\"time:timestamp\": \"2023-04-23 15:21:35,498\",\"case:concept:name\":\"0xc360baaa8d64ef87be2dea15326e45de\",\"concept:name\": \"Send Newsletter\",\"message\": \"Send Newsletter\",\"tilt\": \"{\\'data_disclosed\\': [\\'user.firstname\\', \\'user.lastname\\', \\'address.street\\', \\'address.number\\', \\'address.postcode\\'], \\'purposes\\': [\\'newsletter\\'], \\'legal_bases\\': [\\'GDPR-6-1-a\\']}\"}\\n',\n",
       "        '{\"time:timestamp\": \"2023-04-23 15:21:36,537\",\"case:concept:name\":\"0x665608181aba345a41725f914ffef2b4\",\"concept:name\": \"Send Newsletter\",\"message\": \"Send Newsletter\",\"tilt\": \"{\\'data_disclosed\\': [\\'user.firstname\\', \\'user.lastname\\', \\'address.street\\', \\'address.number\\', \\'address.postcode\\'], \\'purposes\\': [\\'newsletter\\'], \\'legal_bases\\': [\\'GDPR-6-1-a\\']}\"}\\n'],\n",
       "       dtype='<U384')}"
      ]
     },
     "execution_count": 10,
     "metadata": {},
     "output_type": "execute_result"
    }
   ],
   "source": [
    "fields"
   ]
  },
  {
   "cell_type": "code",
   "execution_count": 11,
   "metadata": {},
   "outputs": [],
   "source": [
    "df : pd.DataFrame = pd.DataFrame(fields)"
   ]
  },
  {
   "cell_type": "code",
   "execution_count": 12,
   "metadata": {},
   "outputs": [],
   "source": [
    "log_df : pd.DataFrame = pd.json_normalize(df[\"log\"].apply(json.loads))"
   ]
  },
  {
   "cell_type": "code",
   "execution_count": 13,
   "metadata": {},
   "outputs": [
    {
     "data": {
      "text/html": [
       "<div>\n",
       "<style scoped>\n",
       "    .dataframe tbody tr th:only-of-type {\n",
       "        vertical-align: middle;\n",
       "    }\n",
       "\n",
       "    .dataframe tbody tr th {\n",
       "        vertical-align: top;\n",
       "    }\n",
       "\n",
       "    .dataframe thead th {\n",
       "        text-align: right;\n",
       "    }\n",
       "</style>\n",
       "<table border=\"1\" class=\"dataframe\">\n",
       "  <thead>\n",
       "    <tr style=\"text-align: right;\">\n",
       "      <th></th>\n",
       "      <th>time:timestamp</th>\n",
       "      <th>case:concept:name</th>\n",
       "      <th>concept:name</th>\n",
       "      <th>message</th>\n",
       "      <th>tilt</th>\n",
       "    </tr>\n",
       "  </thead>\n",
       "  <tbody>\n",
       "    <tr>\n",
       "      <th>0</th>\n",
       "      <td>2023-04-23 15:18:53,689</td>\n",
       "      <td>0x9a6cd07b69bd1edbc51a6ccbf9bd24fb</td>\n",
       "      <td>Request User Address</td>\n",
       "      <td>Request User Address</td>\n",
       "      <td>{'data_disclosed': ['user.id'], 'purposes': ['...</td>\n",
       "    </tr>\n",
       "    <tr>\n",
       "      <th>1</th>\n",
       "      <td>2023-04-23 15:18:54,192</td>\n",
       "      <td>0x286109616e05cb5061ad956b3af40de9</td>\n",
       "      <td>Request User Address</td>\n",
       "      <td>Request User Address</td>\n",
       "      <td>{'data_disclosed': ['user.id'], 'purposes': ['...</td>\n",
       "    </tr>\n",
       "    <tr>\n",
       "      <th>2</th>\n",
       "      <td>2023-04-23 15:18:54,204</td>\n",
       "      <td>0x286109616e05cb5061ad956b3af40de9</td>\n",
       "      <td>Combine User Data</td>\n",
       "      <td>Combine User Data</td>\n",
       "      <td>{'data_disclosed': ['user.firstname', 'user.la...</td>\n",
       "    </tr>\n",
       "    <tr>\n",
       "      <th>3</th>\n",
       "      <td>2023-04-23 15:18:54,717</td>\n",
       "      <td>0xc3e9ce31b842c7ab78af52b8102e9c1d</td>\n",
       "      <td>Request User Address</td>\n",
       "      <td>Request User Address</td>\n",
       "      <td>{'data_disclosed': ['user.id'], 'purposes': ['...</td>\n",
       "    </tr>\n",
       "    <tr>\n",
       "      <th>4</th>\n",
       "      <td>2023-04-23 15:18:54,731</td>\n",
       "      <td>0xc3e9ce31b842c7ab78af52b8102e9c1d</td>\n",
       "      <td>Combine User Data</td>\n",
       "      <td>Combine User Data</td>\n",
       "      <td>{'data_disclosed': ['user.firstname', 'user.la...</td>\n",
       "    </tr>\n",
       "    <tr>\n",
       "      <th>...</th>\n",
       "      <td>...</td>\n",
       "      <td>...</td>\n",
       "      <td>...</td>\n",
       "      <td>...</td>\n",
       "      <td>...</td>\n",
       "    </tr>\n",
       "    <tr>\n",
       "      <th>4167</th>\n",
       "      <td>2023-04-23 15:21:30,983</td>\n",
       "      <td>0xddaf79a39d7992dfd98be676835e3c71</td>\n",
       "      <td>Send Newsletter</td>\n",
       "      <td>Send Newsletter</td>\n",
       "      <td>{'data_disclosed': ['user.firstname', 'user.la...</td>\n",
       "    </tr>\n",
       "    <tr>\n",
       "      <th>4168</th>\n",
       "      <td>2023-04-23 15:21:32,098</td>\n",
       "      <td>0xb1ed0f651cb416815984484c0d16b09a</td>\n",
       "      <td>Send Newsletter</td>\n",
       "      <td>Send Newsletter</td>\n",
       "      <td>{'data_disclosed': ['user.firstname', 'user.la...</td>\n",
       "    </tr>\n",
       "    <tr>\n",
       "      <th>4169</th>\n",
       "      <td>2023-04-23 15:21:35,286</td>\n",
       "      <td>0xa9f5b12f6de704e35262bf21d9265c41</td>\n",
       "      <td>Send Newsletter</td>\n",
       "      <td>Send Newsletter</td>\n",
       "      <td>{'data_disclosed': ['user.firstname', 'user.la...</td>\n",
       "    </tr>\n",
       "    <tr>\n",
       "      <th>4170</th>\n",
       "      <td>2023-04-23 15:21:35,498</td>\n",
       "      <td>0xc360baaa8d64ef87be2dea15326e45de</td>\n",
       "      <td>Send Newsletter</td>\n",
       "      <td>Send Newsletter</td>\n",
       "      <td>{'data_disclosed': ['user.firstname', 'user.la...</td>\n",
       "    </tr>\n",
       "    <tr>\n",
       "      <th>4171</th>\n",
       "      <td>2023-04-23 15:21:36,537</td>\n",
       "      <td>0x665608181aba345a41725f914ffef2b4</td>\n",
       "      <td>Send Newsletter</td>\n",
       "      <td>Send Newsletter</td>\n",
       "      <td>{'data_disclosed': ['user.firstname', 'user.la...</td>\n",
       "    </tr>\n",
       "  </tbody>\n",
       "</table>\n",
       "<p>4172 rows × 5 columns</p>\n",
       "</div>"
      ],
      "text/plain": [
       "               time:timestamp                   case:concept:name  \\\n",
       "0     2023-04-23 15:18:53,689  0x9a6cd07b69bd1edbc51a6ccbf9bd24fb   \n",
       "1     2023-04-23 15:18:54,192  0x286109616e05cb5061ad956b3af40de9   \n",
       "2     2023-04-23 15:18:54,204  0x286109616e05cb5061ad956b3af40de9   \n",
       "3     2023-04-23 15:18:54,717  0xc3e9ce31b842c7ab78af52b8102e9c1d   \n",
       "4     2023-04-23 15:18:54,731  0xc3e9ce31b842c7ab78af52b8102e9c1d   \n",
       "...                       ...                                 ...   \n",
       "4167  2023-04-23 15:21:30,983  0xddaf79a39d7992dfd98be676835e3c71   \n",
       "4168  2023-04-23 15:21:32,098  0xb1ed0f651cb416815984484c0d16b09a   \n",
       "4169  2023-04-23 15:21:35,286  0xa9f5b12f6de704e35262bf21d9265c41   \n",
       "4170  2023-04-23 15:21:35,498  0xc360baaa8d64ef87be2dea15326e45de   \n",
       "4171  2023-04-23 15:21:36,537  0x665608181aba345a41725f914ffef2b4   \n",
       "\n",
       "              concept:name               message  \\\n",
       "0     Request User Address  Request User Address   \n",
       "1     Request User Address  Request User Address   \n",
       "2        Combine User Data     Combine User Data   \n",
       "3     Request User Address  Request User Address   \n",
       "4        Combine User Data     Combine User Data   \n",
       "...                    ...                   ...   \n",
       "4167       Send Newsletter       Send Newsletter   \n",
       "4168       Send Newsletter       Send Newsletter   \n",
       "4169       Send Newsletter       Send Newsletter   \n",
       "4170       Send Newsletter       Send Newsletter   \n",
       "4171       Send Newsletter       Send Newsletter   \n",
       "\n",
       "                                                   tilt  \n",
       "0     {'data_disclosed': ['user.id'], 'purposes': ['...  \n",
       "1     {'data_disclosed': ['user.id'], 'purposes': ['...  \n",
       "2     {'data_disclosed': ['user.firstname', 'user.la...  \n",
       "3     {'data_disclosed': ['user.id'], 'purposes': ['...  \n",
       "4     {'data_disclosed': ['user.firstname', 'user.la...  \n",
       "...                                                 ...  \n",
       "4167  {'data_disclosed': ['user.firstname', 'user.la...  \n",
       "4168  {'data_disclosed': ['user.firstname', 'user.la...  \n",
       "4169  {'data_disclosed': ['user.firstname', 'user.la...  \n",
       "4170  {'data_disclosed': ['user.firstname', 'user.la...  \n",
       "4171  {'data_disclosed': ['user.firstname', 'user.la...  \n",
       "\n",
       "[4172 rows x 5 columns]"
      ]
     },
     "execution_count": 13,
     "metadata": {},
     "output_type": "execute_result"
    }
   ],
   "source": [
    "log_df"
   ]
  },
  {
   "cell_type": "code",
   "execution_count": 14,
   "metadata": {},
   "outputs": [],
   "source": [
    "tilt_df : pd.DataFrame = pd.json_normalize(\n",
    "    log_df[\"tilt\"]\n",
    "    .apply(lambda x: x.replace(\"\\'\",\"\\\"\"))\n",
    "    .apply(json.loads))\\\n",
    "        .add_prefix(\"tilt:\")"
   ]
  },
  {
   "cell_type": "code",
   "execution_count": 15,
   "metadata": {},
   "outputs": [],
   "source": [
    "combined_df = pd.concat([log_df,tilt_df],axis=1).drop(\"tilt\",axis=1)\n",
    "combined_df.to_csv(\"tilt-enhanced-event-log.csv\",sep=\",\")\n",
    "\n",
    "combined_df.index.name = \"ocel:eid\"\n",
    "combined_df[\"ocel:timestamp\"] = combined_df[\"time:timestamp\"].apply(lambda x: x.replace(\",\",\" \"))\n",
    "combined_df[\"ocel:activity\"]= combined_df[\"concept:name\"]\n",
    "combined_df.reset_index().to_json(\"tilt-enhanced-event-log.json\",orient=\"records\",)"
   ]
  },
  {
   "cell_type": "code",
   "execution_count": 11,
   "metadata": {},
   "outputs": [],
   "source": [
    "with open(\"tilt-enhanced-event-log.json\") as f:\n",
    "    jo = json.load(f)"
   ]
  },
  {
   "cell_type": "code",
   "execution_count": 12,
   "metadata": {},
   "outputs": [],
   "source": [
    "ocel = {\"ocel:events\":{},\"ocel:objects\":{},\"ocel:global-log\": {\n",
    "    \"ocel:attribute-names\": [\n",
    "      \"label\",\n",
    "      \"purpose\",\n",
    "      \"basis\"\n",
    "    ],\n",
    "    \"ocel:object-types\": [\n",
    "      \"tilt:data_disclosed\",\n",
    "      \"tilt:purposes\",\n",
    "      \"tilt:legal_bases\"\n",
    "    ],\n",
    "    \"ocel:version\": \"1.0\",\n",
    "    \"ocel:ordering\": \"timestamp\"\n",
    "  },\"ocel:global-event\": {\n",
    "    \"ocel:activity\": \"__INVALID__\"\n",
    "  },\n",
    "  \"ocel:global-object\": {\n",
    "    \"ocel:type\": \"__INVALID__\"\n",
    "  }}\n",
    "for i in jo:\n",
    "    ocel[\"ocel:events\"][i[\"ocel:eid\"]] = i\n",
    "    ocel[\"ocel:events\"][i[\"ocel:eid\"]][\"ocel:vmap\"] = {}\n",
    "    ocel[\"ocel:events\"][i[\"ocel:eid\"]][\"ocel:omap\"] = []\n",
    "    for t in [k for k in i.keys() if k.startswith(\"tilt\")]:\n",
    "        ocel[\"ocel:events\"][i[\"ocel:eid\"]][\"ocel:vmap\"][t] = i[t]\n",
    "    for j in i[\"tilt:data_disclosed\"]:\n",
    "        ocel[\"ocel:events\"][i[\"ocel:eid\"]][\"ocel:omap\"].append(j)\n",
    "        if not j in ocel[\"ocel:objects\"].keys():\n",
    "            ocel[\"ocel:objects\"][j]={\n",
    "                \"ocel:type\": \"tilt:data_disclosed\",\n",
    "                \"ocel:ovmap\":{\"label\":j}}\n",
    "    for j in i[\"tilt:purposes\"]:\n",
    "        ocel[\"ocel:events\"][i[\"ocel:eid\"]][\"ocel:omap\"].append(j)\n",
    "        if not j in ocel[\"ocel:objects\"].keys():\n",
    "            ocel[\"ocel:objects\"][j]={\n",
    "                \"ocel:type\": \"tilt:purposes\",\n",
    "                \"ocel:ovmap\":{\"purpose\":j}}\n",
    "    for j in i[\"tilt:legal_bases\"]:\n",
    "        ocel[\"ocel:events\"][i[\"ocel:eid\"]][\"ocel:omap\"].append(j)\n",
    "        if not j in ocel[\"ocel:objects\"].keys():\n",
    "            ocel[\"ocel:objects\"][j]={\n",
    "                \"ocel:type\": \"tilt:legal_bases\",\n",
    "                \"ocel:ovmap\":{\"basis\":j}}"
   ]
  },
  {
   "cell_type": "code",
   "execution_count": 13,
   "metadata": {},
   "outputs": [],
   "source": [
    "with open('ocel.json', 'w') as f:\n",
    "    json.dump(ocel, f)"
   ]
  },
  {
   "cell_type": "code",
   "execution_count": null,
   "metadata": {},
   "outputs": [],
   "source": []
  }
 ],
 "metadata": {
  "kernelspec": {
   "display_name": "env",
   "language": "python",
   "name": "python3"
  },
  "language_info": {
   "codemirror_mode": {
    "name": "ipython",
    "version": 3
   },
   "file_extension": ".py",
   "mimetype": "text/x-python",
   "name": "python",
   "nbconvert_exporter": "python",
   "pygments_lexer": "ipython3",
   "version": "3.9.16"
  },
  "orig_nbformat": 4
 },
 "nbformat": 4,
 "nbformat_minor": 2
}
