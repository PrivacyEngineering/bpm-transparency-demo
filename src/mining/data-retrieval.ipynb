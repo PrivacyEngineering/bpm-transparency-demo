{
 "cells": [
  {
   "cell_type": "code",
   "execution_count": 2,
   "metadata": {},
   "outputs": [],
   "source": [
    "from elasticsearch7 import Elasticsearch\n",
    "import numpy as np\n",
    "import pandas as pd\n",
    "import json"
   ]
  },
  {
   "cell_type": "code",
   "execution_count": 3,
   "metadata": {},
   "outputs": [],
   "source": [
    "es = Elasticsearch(hosts=\"http://localhost:9200\")"
   ]
  },
  {
   "cell_type": "code",
   "execution_count": 4,
   "metadata": {},
   "outputs": [],
   "source": [
    "response = es.search(index=\"fluentd-k8s\",)\n",
    "hit_count = response[\"hits\"][\"total\"][\"value\"]"
   ]
  },
  {
   "cell_type": "code",
   "execution_count": 5,
   "metadata": {},
   "outputs": [],
   "source": [
    "response = es.search(index=\"fluentd-k8s\", size=hit_count)"
   ]
  },
  {
   "cell_type": "code",
   "execution_count": 6,
   "metadata": {},
   "outputs": [],
   "source": [
    "docs = response[\"hits\"][\"hits\"]"
   ]
  },
  {
   "cell_type": "code",
   "execution_count": 7,
   "metadata": {},
   "outputs": [],
   "source": [
    "docs = response[\"hits\"][\"hits\"]\n",
    "fields = {}\n",
    "for num, doc in enumerate(docs):\n",
    "    source_data = doc[\"_source\"]\n",
    "    for key, val in source_data.items():\n",
    "        if key == \"log\":\n",
    "            try:\n",
    "                fields[key] = np.append(fields[key], val)\n",
    "            except KeyError:\n",
    "                fields[key] = np.array([val])\n",
    "    # do stuff here!"
   ]
  },
  {
   "cell_type": "code",
   "execution_count": 8,
   "metadata": {},
   "outputs": [],
   "source": [
    "df : pd.DataFrame = pd.DataFrame(fields)"
   ]
  },
  {
   "cell_type": "code",
   "execution_count": 9,
   "metadata": {},
   "outputs": [],
   "source": [
    "log_df : pd.DataFrame = pd.json_normalize(df[\"log\"].apply(json.loads))"
   ]
  },
  {
   "cell_type": "code",
   "execution_count": 10,
   "metadata": {},
   "outputs": [],
   "source": [
    "tilt_df : pd.DataFrame = pd.json_normalize(\n",
    "    log_df[\"tilt\"]\n",
    "    .apply(lambda x: x.replace(\"\\'\",\"\\\"\"))\n",
    "    .apply(json.loads))\\\n",
    "        .add_prefix(\"tilt:\")"
   ]
  },
  {
   "cell_type": "code",
   "execution_count": 65,
   "metadata": {},
   "outputs": [],
   "source": [
    "combined_df = pd.concat([log_df,tilt_df],axis=1).drop(\"tilt\",axis=1)\n",
    "combined_df.to_csv(\"tilt-enhanced-event-log.csv\",sep=\",\")\n",
    "\n",
    "combined_df.index.name = \"ocel:eid\"\n",
    "combined_df[\"ocel:timestamp\"] = combined_df[\"timestamp\"].apply(lambda x: x.replace(\",\",\" \"))\n",
    "combined_df[\"ocel:activity\"]= combined_df[\"concept:name\"]\n",
    "combined_df.reset_index().to_json(\"tilt-enhanced-event-log.json\",orient=\"records\",)"
   ]
  },
  {
   "cell_type": "code",
   "execution_count": 40,
   "metadata": {},
   "outputs": [],
   "source": [
    "with open(\"tilt-enhanced-event-log.json\") as f:\n",
    "    jo = json.load(f)"
   ]
  },
  {
   "cell_type": "code",
   "execution_count": 63,
   "metadata": {},
   "outputs": [],
   "source": [
    "ocel = {\"ocel:events\":{},\"ocel:objects\":{},\"ocel:global-log\": {\n",
    "    \"ocel:attribute-names\": [\n",
    "      \"label\",\n",
    "      \"purpose\",\n",
    "      \"basis\"\n",
    "    ],\n",
    "    \"ocel:object-types\": [\n",
    "      \"tilt:data_disclosed\",\n",
    "      \"tilt:purposes\",\n",
    "      \"tilt:legal_bases\"\n",
    "    ],\n",
    "    \"ocel:version\": \"1.0\",\n",
    "    \"ocel:ordering\": \"timestamp\"\n",
    "  },\"ocel:global-event\": {\n",
    "    \"ocel:activity\": \"__INVALID__\"\n",
    "  },\n",
    "  \"ocel:global-object\": {\n",
    "    \"ocel:type\": \"__INVALID__\"\n",
    "  }}\n",
    "for i in jo:\n",
    "    ocel[\"ocel:events\"][i[\"ocel:eid\"]] = i\n",
    "    ocel[\"ocel:events\"][i[\"ocel:eid\"]][\"ocel:vmap\"] = {}\n",
    "    ocel[\"ocel:events\"][i[\"ocel:eid\"]][\"ocel:omap\"] = []\n",
    "    for t in [k for k in i.keys() if k.startswith(\"tilt\")]:\n",
    "        ocel[\"ocel:events\"][i[\"ocel:eid\"]][\"ocel:vmap\"][t] = i[t]\n",
    "    for j in i[\"tilt:data_disclosed\"]:\n",
    "        ocel[\"ocel:events\"][i[\"ocel:eid\"]][\"ocel:omap\"].append(j)\n",
    "        if not j in ocel[\"ocel:objects\"].keys():\n",
    "            ocel[\"ocel:objects\"][j]={\n",
    "                \"ocel:type\": \"tilt:data_disclosed\",\n",
    "                \"ocel:ovmap\":{\"label\":j}}\n",
    "    for j in i[\"tilt:purposes\"]:\n",
    "        ocel[\"ocel:events\"][i[\"ocel:eid\"]][\"ocel:omap\"].append(j)\n",
    "        if not j in ocel[\"ocel:objects\"].keys():\n",
    "            ocel[\"ocel:objects\"][j]={\n",
    "                \"ocel:type\": \"tilt:purposes\",\n",
    "                \"ocel:ovmap\":{\"purpose\":j}}\n",
    "    for j in i[\"tilt:legal_bases\"]:\n",
    "        ocel[\"ocel:events\"][i[\"ocel:eid\"]][\"ocel:omap\"].append(j)\n",
    "        if not j in ocel[\"ocel:objects\"].keys():\n",
    "            ocel[\"ocel:objects\"][j]={\n",
    "                \"ocel:type\": \"tilt:legal_bases\",\n",
    "                \"ocel:ovmap\":{\"basis\":j}}"
   ]
  },
  {
   "cell_type": "code",
   "execution_count": 64,
   "metadata": {},
   "outputs": [],
   "source": [
    "with open('ocel.json', 'w') as f:\n",
    "    json.dump(ocel, f)"
   ]
  },
  {
   "cell_type": "code",
   "execution_count": 36,
   "metadata": {},
   "outputs": [],
   "source": []
  }
 ],
 "metadata": {
  "kernelspec": {
   "display_name": "env",
   "language": "python",
   "name": "python3"
  },
  "language_info": {
   "codemirror_mode": {
    "name": "ipython",
    "version": 3
   },
   "file_extension": ".py",
   "mimetype": "text/x-python",
   "name": "python",
   "nbconvert_exporter": "python",
   "pygments_lexer": "ipython3",
   "version": "3.9.16"
  },
  "orig_nbformat": 4
 },
 "nbformat": 4,
 "nbformat_minor": 2
}
