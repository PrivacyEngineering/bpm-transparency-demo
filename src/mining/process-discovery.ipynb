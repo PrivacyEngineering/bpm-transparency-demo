{
 "cells": [
  {
   "cell_type": "code",
   "execution_count": 33,
   "metadata": {},
   "outputs": [],
   "source": [
    "import pm4py\n",
    "import json\n",
    "import pandas as pd\n",
    "from tilt import tilt"
   ]
  },
  {
   "cell_type": "code",
   "execution_count": 34,
   "metadata": {},
   "outputs": [],
   "source": [
    "df = pd.read_csv(\"tilt-enhanced-event-log.csv\",quotechar=\"\\\"\",index_col=0)\n",
    "df = df.rename(columns={\"timestamp\":\"time:timestamp\"})\n",
    "df[\"time:timestamp\"] = pd.to_datetime(df[\"time:timestamp\"],format=\"%Y-%m-%d,%H:%M:%S.%f\")\n",
    "df.index.name = \"ident:eid\"\n",
    "df.reset_index(inplace=True)"
   ]
  },
  {
   "cell_type": "code",
   "execution_count": 35,
   "metadata": {},
   "outputs": [],
   "source": [
    "def convert_to_sorted_list(s:str):\n",
    "    if type(s) != str:return s\n",
    "    l = json.loads(s.replace(\"\\'\",\"\\\"\"))\n",
    "    if type(l)==list: l.sort()\n",
    "    return l\n",
    "\n",
    "tilt_columns = [tilt_column for tilt_column in df.columns if tilt_column.startswith(\"tilt:\")]\n",
    "for c in tilt_columns:\n",
    "    df[c] = df[c].apply(convert_to_sorted_list)"
   ]
  },
  {
   "cell_type": "code",
   "execution_count": 36,
   "metadata": {},
   "outputs": [
    {
     "name": "stderr",
     "output_type": "stream",
     "text": [
      "/tmp/ipykernel_2205280/3783271852.py:3: SettingWithCopyWarning: \n",
      "A value is trying to be set on a copy of a slice from a DataFrame.\n",
      "Try using .loc[row_indexer,col_indexer] = value instead\n",
      "\n",
      "See the caveats in the documentation: https://pandas.pydata.org/pandas-docs/stable/user_guide/indexing.html#returning-a-view-versus-a-copy\n",
      "  dd_df[c] = dd_df[c].apply(lambda x: str(x))\n",
      "/tmp/ipykernel_2205280/3783271852.py:3: SettingWithCopyWarning: \n",
      "A value is trying to be set on a copy of a slice from a DataFrame.\n",
      "Try using .loc[row_indexer,col_indexer] = value instead\n",
      "\n",
      "See the caveats in the documentation: https://pandas.pydata.org/pandas-docs/stable/user_guide/indexing.html#returning-a-view-versus-a-copy\n",
      "  dd_df[c] = dd_df[c].apply(lambda x: str(x))\n"
     ]
    }
   ],
   "source": [
    "dd_df = df[[\"ident:eid\",\"concept:name\"]+tilt_columns]\n",
    "for c in [c for c in tilt_columns if c != \"tilt:data_disclosed\"]:\n",
    "    dd_df[c] = dd_df[c].apply(lambda x: str(x))"
   ]
  },
  {
   "cell_type": "code",
   "execution_count": 37,
   "metadata": {},
   "outputs": [],
   "source": [
    "dd_df = dd_df.set_index([\"ident:eid\",\"concept:name\"]+[c for c in tilt_columns if c != \"tilt:data_disclosed\"])\n",
    "dd_df = dd_df.apply(lambda x: pd.Series(x).explode()).reset_index()\n",
    "dd_df[\"id\"] = dd_df[tilt_columns].apply(lambda x: hash(x.to_string()),axis=1)"
   ]
  },
  {
   "cell_type": "code",
   "execution_count": 38,
   "metadata": {},
   "outputs": [
    {
     "name": "stderr",
     "output_type": "stream",
     "text": [
      "/tmp/ipykernel_2205280/887907373.py:11: SettingWithCopyWarning: \n",
      "A value is trying to be set on a copy of a slice from a DataFrame.\n",
      "Try using .loc[row_indexer,col_indexer] = value instead\n",
      "\n",
      "See the caveats in the documentation: https://pandas.pydata.org/pandas-docs/stable/user_guide/indexing.html#returning-a-view-versus-a-copy\n",
      "  unique_dd[\"tilt:element\"] = unique_dd.apply(build_data_disclosed_element,axis=1)\n"
     ]
    }
   ],
   "source": [
    "def build_data_disclosed_element(s:pd.Series)->dict:\n",
    "    legal_bases = [{\"reference\": i ,\"description\":None} for i in convert_to_sorted_list(s[\"tilt:legal_bases\"])]\n",
    "    purposes = [{\"purpose\": i ,\"description\":None} for i in convert_to_sorted_list(s[\"tilt:purposes\"])]\n",
    "    return {\n",
    "        \"_id\":s[\"id\"],\n",
    "        \"category\":s[\"tilt:data_disclosed\"],\n",
    "        \"legalBases\":legal_bases,\n",
    "        \"purposes\":purposes\n",
    "    }\n",
    "unique_dd = dd_df.drop_duplicates(subset=\"id\")\n",
    "unique_dd[\"tilt:element\"] = unique_dd.apply(build_data_disclosed_element,axis=1)"
   ]
  },
  {
   "cell_type": "code",
   "execution_count": 39,
   "metadata": {},
   "outputs": [],
   "source": [
    "df2 = pd.merge(left=dd_df,right=unique_dd[[\"id\",\"tilt:element\"]], on=\"id\")"
   ]
  },
  {
   "cell_type": "code",
   "execution_count": 48,
   "metadata": {},
   "outputs": [],
   "source": [
    "bpmn :pm4py.BPMN= pm4py.discover_bpmn_inductive(df, activity_key='concept:name', case_id_key='case:concept:name', timestamp_key='time:timestamp')"
   ]
  },
  {
   "cell_type": "code",
   "execution_count": 49,
   "metadata": {},
   "outputs": [],
   "source": [
    "pm4py.write_bpmn(bpmn,\"tilt.bpmn\")"
   ]
  },
  {
   "cell_type": "code",
   "execution_count": null,
   "metadata": {},
   "outputs": [
    {
     "data": {
      "image/png": "[encoded data removed]",
      "text/plain": [
       "<IPython.core.display.Image object>"
      ]
     },
     "metadata": {},
     "output_type": "display_data"
    }
   ],
   "source": [
    "pm4py.view_bpmn(bpmn)"
   ]
  },
  {
   "cell_type": "code",
   "execution_count": 158,
   "metadata": {},
   "outputs": [],
   "source": [
    "import xml.etree.ElementTree as ET\n",
    "tree = ET.parse(\"tilt.bpmn\")\n",
    "root = tree.getroot()"
   ]
  },
  {
   "cell_type": "code",
   "execution_count": null,
   "metadata": {},
   "outputs": [],
   "source": []
  },
  {
   "cell_type": "code",
   "execution_count": 159,
   "metadata": {},
   "outputs": [],
   "source": [
    "ns = {\n",
    "    \"bpmn\":\"http://www.omg.org/spec/BPMN/20100524/MODEL\",\n",
    "    \"tilt\":\"mytilturi.com\"\n",
    "}\n",
    "ET.register_namespace(\"tilt\",\"mytiltURI.com\")\n",
    "ET.register_namespace(\"bpmn\",\"http://www.omg.org/spec/BPMN/20100524/MODEL\")\n",
    "ET.register_namespace(\"bpmndi\",\"http://www.omg.org/spec/BPMN/20100524/DI\")\n",
    "ET.register_namespace(\"omgdc\",\"http://www.omg.org/spec/DD/20100524/DC\")\n",
    "ET.register_namespace(\"omgdi\",\"http://www.omg.org/spec/DD/20100524/DI\")\n",
    "ET.register_namespace(\"xsi\",\"http://www.w3.org/2001/XMLSchema-instance\")\n",
    "ET.register_namespace(\"xsd\",\"http://www.w3.org/2001/XMLSchema\")"
   ]
  },
  {
   "cell_type": "code",
   "execution_count": 160,
   "metadata": {},
   "outputs": [
    {
     "data": {
      "text/plain": [
       "0.21875"
      ]
     },
     "execution_count": 160,
     "metadata": {},
     "output_type": "execute_result"
    }
   ],
   "source": [
    "dd_df[dd_df[\"concept:name\"]==\"Combine User Data\"][\"id\"].value_counts()[8322952636207868769]/dd_df[dd_df[\"concept:name\"]==\"Combine User Data\"][\"id\"].value_counts().sum()"
   ]
  },
  {
   "cell_type": "code",
   "execution_count": 161,
   "metadata": {},
   "outputs": [],
   "source": [
    "for task in root.find(\"bpmn:process\",ns).findall(\"bpmn:task\",ns):\n",
    "    extensionElements = ET.SubElement(task,\"bpmn:extensionElements\")\n",
    "    concept_name = task.attrib[\"name\"]\n",
    "    relevant_df = df2[df2[\"concept:name\"]==concept_name].drop_duplicates(\"id\")\n",
    "    for id in relevant_df[\"id\"].value_counts().index:\n",
    "        elements = relevant_df[relevant_df[\"id\"]==id][\"tilt:element\"].values\n",
    "        if len(elements) != 0:\n",
    "            dataElement = elements[0]\n",
    "        else:\n",
    "            continue\n",
    "        dataDisclosed = ET.SubElement(extensionElements,\"tilt:dataDisclosed\")\n",
    "        dataDisclosed.attrib[\"_id\"] = str(id)\n",
    "        dataDisclosed.attrib[\"category\"] = dataElement[\"category\"]\n",
    "        for x in dataElement[\"legalBases\"]:\n",
    "            lb = ET.SubElement(dataDisclosed,\"tilt:legalBases\")\n",
    "            lb.attrib[\"reference\"] = x[\"reference\"]\n",
    "        for x in dataElement[\"purposes\"]:\n",
    "            lb = ET.SubElement(dataDisclosed,\"tilt:purposes\")\n",
    "            lb.attrib[\"purpose\"] = x[\"purpose\"]"
   ]
  },
  {
   "cell_type": "code",
   "execution_count": null,
   "metadata": {},
   "outputs": [],
   "source": []
  },
  {
   "cell_type": "code",
   "execution_count": 162,
   "metadata": {},
   "outputs": [],
   "source": [
    "tree.write(\"output.bpmn\")"
   ]
  },
  {
   "cell_type": "code",
   "execution_count": 73,
   "metadata": {},
   "outputs": [
    {
     "name": "stdout",
     "output_type": "stream",
     "text": [
      "{'targetNamespace': 'http://www.signavio.com/bpmn20', 'typeLanguage': 'http://www.w3.org/2001/XMLSchema', 'expressionLanguage': 'http://www.w3.org/1999/XPath'} {http://www.omg.org/spec/BPMN/20100524/MODEL}definitions\n",
      "{'id': 'idbc5a56ae-bb1f-4192-98e3-0de7b2758082', 'name': 'diagram'} {http://www.omg.org/spec/BPMN/20100524/DI}BPMNDiagram\n",
      "{'bpmnElement': 'id212733dc-53b0-408e-a05d-bac3c8f33f49', 'id': 'ida6556012-a71e-4a8e-930f-5784a0ec8175'} {http://www.omg.org/spec/BPMN/20100524/DI}BPMNPlane\n",
      "{'bpmnElement': 'id939798b7-98c9-444e-befc-ba6ab308bf07', 'id': 'id939798b7-98c9-444e-befc-ba6ab308bf07_gui'} {http://www.omg.org/spec/BPMN/20100524/DI}BPMNShape\n",
      "{'height': '60', 'width': '120', 'x': '3333', 'y': '0'} {http://www.omg.org/spec/DD/20100524/DC}Bounds\n",
      "{'bpmnElement': 'id0ac6febb-0324-41aa-b027-4fea8e2e1ae9', 'id': 'id0ac6febb-0324-41aa-b027-4fea8e2e1ae9_gui'} {http://www.omg.org/spec/BPMN/20100524/DI}BPMNShape\n",
      "{'height': '30', 'width': '30', 'x': '5000', 'y': '0'} {http://www.omg.org/spec/DD/20100524/DC}Bounds\n",
      "{'bpmnElement': 'ide2308468-a18d-4c59-9fbd-eb0c9559d639', 'id': 'ide2308468-a18d-4c59-9fbd-eb0c9559d639_gui'} {http://www.omg.org/spec/BPMN/20100524/DI}BPMNShape\n",
      "{'height': '30', 'width': '30', 'x': '0', 'y': '0'} {http://www.omg.org/spec/DD/20100524/DC}Bounds\n",
      "{'bpmnElement': 'idc11feca8-15c3-47a2-9c97-325604d9326d', 'id': 'idc11feca8-15c3-47a2-9c97-325604d9326d_gui'} {http://www.omg.org/spec/BPMN/20100524/DI}BPMNShape\n",
      "{'height': '60', 'width': '93', 'x': '1667', 'y': '0'} {http://www.omg.org/spec/DD/20100524/DC}Bounds\n",
      "{'bpmnElement': 'id4489c6f4-df14-480d-8a58-74c52adff4fa', 'id': 'id4489c6f4-df14-480d-8a58-74c52adff4fa_gui'} {http://www.omg.org/spec/BPMN/20100524/DI}BPMNEdge\n",
      "{'x': '3453', 'y': '30'} {http://www.omg.org/spec/DD/20100524/DI}waypoint\n",
      "{'x': '4226.5', 'y': '30'} {http://www.omg.org/spec/DD/20100524/DI}waypoint\n",
      "{'x': '4226.5', 'y': '15'} {http://www.omg.org/spec/DD/20100524/DI}waypoint\n",
      "{'x': '5000', 'y': '15'} {http://www.omg.org/spec/DD/20100524/DI}waypoint\n",
      "{'bpmnElement': 'id5192b595-8f9e-47db-a61c-84462f2866c7', 'id': 'id5192b595-8f9e-47db-a61c-84462f2866c7_gui'} {http://www.omg.org/spec/BPMN/20100524/DI}BPMNEdge\n",
      "{'x': '30', 'y': '15'} {http://www.omg.org/spec/DD/20100524/DI}waypoint\n",
      "{'x': '848.5', 'y': '15'} {http://www.omg.org/spec/DD/20100524/DI}waypoint\n",
      "{'x': '848.5', 'y': '30'} {http://www.omg.org/spec/DD/20100524/DI}waypoint\n",
      "{'x': '1667', 'y': '30'} {http://www.omg.org/spec/DD/20100524/DI}waypoint\n",
      "{'bpmnElement': 'id334536c2-f34e-4da7-8363-b5e3163dc617', 'id': 'id334536c2-f34e-4da7-8363-b5e3163dc617_gui'} {http://www.omg.org/spec/BPMN/20100524/DI}BPMNEdge\n",
      "{'x': '1760', 'y': '30'} {http://www.omg.org/spec/DD/20100524/DI}waypoint\n",
      "{'x': '2546.5', 'y': '30'} {http://www.omg.org/spec/DD/20100524/DI}waypoint\n",
      "{'x': '2546.5', 'y': '30'} {http://www.omg.org/spec/DD/20100524/DI}waypoint\n",
      "{'x': '3333', 'y': '30'} {http://www.omg.org/spec/DD/20100524/DI}waypoint\n",
      "{'id': 'id212733dc-53b0-408e-a05d-bac3c8f33f49', 'isClosed': 'false', 'isExecutable': 'false', 'processType': 'None'} {http://www.omg.org/spec/BPMN/20100524/MODEL}process\n",
      "{'id': 'id939798b7-98c9-444e-befc-ba6ab308bf07', 'name': 'Combine User Data'} {http://www.omg.org/spec/BPMN/20100524/MODEL}task\n",
      "{} {http://www.omg.org/spec/BPMN/20100524/MODEL}incoming\n",
      "{} {http://www.omg.org/spec/BPMN/20100524/MODEL}outgoing\n",
      "{'id': 'id0ac6febb-0324-41aa-b027-4fea8e2e1ae9', 'name': 'end'} {http://www.omg.org/spec/BPMN/20100524/MODEL}endEvent\n",
      "{} {http://www.omg.org/spec/BPMN/20100524/MODEL}incoming\n",
      "{'id': 'ide2308468-a18d-4c59-9fbd-eb0c9559d639', 'isInterrupting': 'true', 'name': 'start', 'parallelMultiple': 'false'} {http://www.omg.org/spec/BPMN/20100524/MODEL}startEvent\n",
      "{} {http://www.omg.org/spec/BPMN/20100524/MODEL}outgoing\n",
      "{'id': 'idc11feca8-15c3-47a2-9c97-325604d9326d', 'name': 'HelloWorld'} {http://www.omg.org/spec/BPMN/20100524/MODEL}task\n",
      "{} {http://www.omg.org/spec/BPMN/20100524/MODEL}incoming\n",
      "{} {http://www.omg.org/spec/BPMN/20100524/MODEL}outgoing\n",
      "{'id': 'id4489c6f4-df14-480d-8a58-74c52adff4fa', 'name': '', 'sourceRef': 'id939798b7-98c9-444e-befc-ba6ab308bf07', 'targetRef': 'id0ac6febb-0324-41aa-b027-4fea8e2e1ae9'} {http://www.omg.org/spec/BPMN/20100524/MODEL}sequenceFlow\n",
      "{'id': 'id5192b595-8f9e-47db-a61c-84462f2866c7', 'name': '', 'sourceRef': 'ide2308468-a18d-4c59-9fbd-eb0c9559d639', 'targetRef': 'idc11feca8-15c3-47a2-9c97-325604d9326d'} {http://www.omg.org/spec/BPMN/20100524/MODEL}sequenceFlow\n",
      "{'id': 'id334536c2-f34e-4da7-8363-b5e3163dc617', 'name': '', 'sourceRef': 'idc11feca8-15c3-47a2-9c97-325604d9326d', 'targetRef': 'id939798b7-98c9-444e-befc-ba6ab308bf07'} {http://www.omg.org/spec/BPMN/20100524/MODEL}sequenceFlow\n"
     ]
    }
   ],
   "source": [
    "def print_child(xml:ET.Element):\n",
    "    print(xml.attrib,xml.tag)\n",
    "    for child in xml:\n",
    "        print_child(child)\n",
    "print_child(root)"
   ]
  },
  {
   "cell_type": "code",
   "execution_count": 67,
   "metadata": {},
   "outputs": [],
   "source": [
    "for i in root.findall():\n",
    "    print(i.attrib)"
   ]
  },
  {
   "cell_type": "code",
   "execution_count": null,
   "metadata": {},
   "outputs": [
    {
     "data": {
      "text/plain": [
       "tilt:data_disclosed\n",
       "['firstname', 'lastname', 'birthday', 'address']    8\n",
       "Name: count, dtype: int64"
      ]
     },
     "execution_count": 36,
     "metadata": {},
     "output_type": "execute_result"
    }
   ],
   "source": [
    "tilt_df[tilt_df[\"concept:name\"]==\"Combine User Data\"][\"tilt:data_disclosed\"].value_counts()"
   ]
  }
 ],
 "metadata": {
  "kernelspec": {
   "display_name": "env",
   "language": "python",
   "name": "python3"
  },
  "language_info": {
   "codemirror_mode": {
    "name": "ipython",
    "version": 3
   },
   "file_extension": ".py",
   "mimetype": "text/x-python",
   "name": "python",
   "nbconvert_exporter": "python",
   "pygments_lexer": "ipython3",
   "version": "3.9.16"
  },
  "orig_nbformat": 4
 },
 "nbformat": 4,
 "nbformat_minor": 2
}
